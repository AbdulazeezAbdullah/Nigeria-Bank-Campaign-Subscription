{
 "cells": [
  {
   "cell_type": "markdown",
   "id": "276fa6ab-711d-4f65-a164-028195933878",
   "metadata": {},
   "source": [
    "# Load Data and Necessary Libraries"
   ]
  },
  {
   "cell_type": "code",
   "execution_count": 10,
   "id": "58045c69-31ac-4241-bbd9-e7523d036a46",
   "metadata": {},
   "outputs": [],
   "source": [
    "# Import Libraries\n",
    "import pandas as pd\n",
    "import matplotlib.pyplot as plt"
   ]
  },
  {
   "cell_type": "code",
   "execution_count": 11,
   "id": "2d35be12-205d-4017-9d82-662781a965f5",
   "metadata": {},
   "outputs": [],
   "source": [
    "# Import Data\n",
    "data = pd.read_csv('train.csv')"
   ]
  },
  {
   "cell_type": "code",
   "execution_count": 12,
   "id": "7b4a69fb-fa87-403f-9e60-6492e6e42018",
   "metadata": {},
   "outputs": [
    {
     "data": {
      "text/html": [
       "<div>\n",
       "<style scoped>\n",
       "    .dataframe tbody tr th:only-of-type {\n",
       "        vertical-align: middle;\n",
       "    }\n",
       "\n",
       "    .dataframe tbody tr th {\n",
       "        vertical-align: top;\n",
       "    }\n",
       "\n",
       "    .dataframe thead th {\n",
       "        text-align: right;\n",
       "    }\n",
       "</style>\n",
       "<table border=\"1\" class=\"dataframe\">\n",
       "  <thead>\n",
       "    <tr style=\"text-align: right;\">\n",
       "      <th></th>\n",
       "      <th>customer_id</th>\n",
       "      <th>age</th>\n",
       "      <th>job</th>\n",
       "      <th>marital</th>\n",
       "      <th>education</th>\n",
       "      <th>default</th>\n",
       "      <th>housing</th>\n",
       "      <th>loan</th>\n",
       "      <th>contact</th>\n",
       "      <th>month</th>\n",
       "      <th>...</th>\n",
       "      <th>campaign</th>\n",
       "      <th>pdays</th>\n",
       "      <th>previous</th>\n",
       "      <th>poutcome</th>\n",
       "      <th>emp_var_rate</th>\n",
       "      <th>cons_price_idx</th>\n",
       "      <th>cons_conf_idx</th>\n",
       "      <th>euribor3m</th>\n",
       "      <th>nr_employed</th>\n",
       "      <th>subscribed</th>\n",
       "    </tr>\n",
       "  </thead>\n",
       "  <tbody>\n",
       "    <tr>\n",
       "      <th>0</th>\n",
       "      <td>customer_id_39075</td>\n",
       "      <td>31</td>\n",
       "      <td>admin.</td>\n",
       "      <td>married</td>\n",
       "      <td>university.degree</td>\n",
       "      <td>no</td>\n",
       "      <td>no</td>\n",
       "      <td>no</td>\n",
       "      <td>cellular</td>\n",
       "      <td>dec</td>\n",
       "      <td>...</td>\n",
       "      <td>3</td>\n",
       "      <td>999</td>\n",
       "      <td>1</td>\n",
       "      <td>failure</td>\n",
       "      <td>-2.97</td>\n",
       "      <td>46.3565</td>\n",
       "      <td>-23.10</td>\n",
       "      <td>1.711</td>\n",
       "      <td>5023.5</td>\n",
       "      <td>0</td>\n",
       "    </tr>\n",
       "    <tr>\n",
       "      <th>1</th>\n",
       "      <td>customer_id_34855</td>\n",
       "      <td>31</td>\n",
       "      <td>technician</td>\n",
       "      <td>single</td>\n",
       "      <td>university.degree</td>\n",
       "      <td>no</td>\n",
       "      <td>no</td>\n",
       "      <td>no</td>\n",
       "      <td>telephone</td>\n",
       "      <td>may</td>\n",
       "      <td>...</td>\n",
       "      <td>4</td>\n",
       "      <td>999</td>\n",
       "      <td>0</td>\n",
       "      <td>nonexistent</td>\n",
       "      <td>-1.77</td>\n",
       "      <td>46.4465</td>\n",
       "      <td>-32.34</td>\n",
       "      <td>2.252</td>\n",
       "      <td>5099.1</td>\n",
       "      <td>0</td>\n",
       "    </tr>\n",
       "    <tr>\n",
       "      <th>2</th>\n",
       "      <td>customer_id_7107</td>\n",
       "      <td>47</td>\n",
       "      <td>blue-collar</td>\n",
       "      <td>married</td>\n",
       "      <td>basic.6y</td>\n",
       "      <td>unknown</td>\n",
       "      <td>yes</td>\n",
       "      <td>no</td>\n",
       "      <td>telephone</td>\n",
       "      <td>may</td>\n",
       "      <td>...</td>\n",
       "      <td>2</td>\n",
       "      <td>999</td>\n",
       "      <td>0</td>\n",
       "      <td>nonexistent</td>\n",
       "      <td>1.13</td>\n",
       "      <td>46.9970</td>\n",
       "      <td>-25.48</td>\n",
       "      <td>5.862</td>\n",
       "      <td>5191.0</td>\n",
       "      <td>0</td>\n",
       "    </tr>\n",
       "    <tr>\n",
       "      <th>3</th>\n",
       "      <td>customer_id_31614</td>\n",
       "      <td>36</td>\n",
       "      <td>services</td>\n",
       "      <td>married</td>\n",
       "      <td>university.degree</td>\n",
       "      <td>no</td>\n",
       "      <td>no</td>\n",
       "      <td>no</td>\n",
       "      <td>cellular</td>\n",
       "      <td>may</td>\n",
       "      <td>...</td>\n",
       "      <td>1</td>\n",
       "      <td>999</td>\n",
       "      <td>1</td>\n",
       "      <td>failure</td>\n",
       "      <td>-1.77</td>\n",
       "      <td>46.4465</td>\n",
       "      <td>-32.34</td>\n",
       "      <td>2.329</td>\n",
       "      <td>5099.1</td>\n",
       "      <td>0</td>\n",
       "    </tr>\n",
       "    <tr>\n",
       "      <th>4</th>\n",
       "      <td>customer_id_34878</td>\n",
       "      <td>34</td>\n",
       "      <td>admin.</td>\n",
       "      <td>single</td>\n",
       "      <td>high.school</td>\n",
       "      <td>no</td>\n",
       "      <td>no</td>\n",
       "      <td>no</td>\n",
       "      <td>cellular</td>\n",
       "      <td>may</td>\n",
       "      <td>...</td>\n",
       "      <td>9</td>\n",
       "      <td>999</td>\n",
       "      <td>0</td>\n",
       "      <td>nonexistent</td>\n",
       "      <td>-1.77</td>\n",
       "      <td>46.4465</td>\n",
       "      <td>-32.34</td>\n",
       "      <td>2.252</td>\n",
       "      <td>5099.1</td>\n",
       "      <td>0</td>\n",
       "    </tr>\n",
       "    <tr>\n",
       "      <th>5</th>\n",
       "      <td>customer_id_24606</td>\n",
       "      <td>48</td>\n",
       "      <td>entrepreneur</td>\n",
       "      <td>married</td>\n",
       "      <td>university.degree</td>\n",
       "      <td>no</td>\n",
       "      <td>yes</td>\n",
       "      <td>yes</td>\n",
       "      <td>cellular</td>\n",
       "      <td>nov</td>\n",
       "      <td>...</td>\n",
       "      <td>2</td>\n",
       "      <td>999</td>\n",
       "      <td>1</td>\n",
       "      <td>failure</td>\n",
       "      <td>-0.07</td>\n",
       "      <td>46.6000</td>\n",
       "      <td>-29.40</td>\n",
       "      <td>5.193</td>\n",
       "      <td>5195.8</td>\n",
       "      <td>0</td>\n",
       "    </tr>\n",
       "    <tr>\n",
       "      <th>6</th>\n",
       "      <td>customer_id_13094</td>\n",
       "      <td>34</td>\n",
       "      <td>blue-collar</td>\n",
       "      <td>single</td>\n",
       "      <td>basic.4y</td>\n",
       "      <td>unknown</td>\n",
       "      <td>no</td>\n",
       "      <td>no</td>\n",
       "      <td>cellular</td>\n",
       "      <td>jul</td>\n",
       "      <td>...</td>\n",
       "      <td>2</td>\n",
       "      <td>999</td>\n",
       "      <td>0</td>\n",
       "      <td>nonexistent</td>\n",
       "      <td>1.43</td>\n",
       "      <td>46.9590</td>\n",
       "      <td>-29.89</td>\n",
       "      <td>5.964</td>\n",
       "      <td>5228.1</td>\n",
       "      <td>0</td>\n",
       "    </tr>\n",
       "    <tr>\n",
       "      <th>7</th>\n",
       "      <td>customer_id_36912</td>\n",
       "      <td>34</td>\n",
       "      <td>technician</td>\n",
       "      <td>single</td>\n",
       "      <td>professional.course</td>\n",
       "      <td>no</td>\n",
       "      <td>no</td>\n",
       "      <td>no</td>\n",
       "      <td>cellular</td>\n",
       "      <td>jun</td>\n",
       "      <td>...</td>\n",
       "      <td>1</td>\n",
       "      <td>999</td>\n",
       "      <td>0</td>\n",
       "      <td>nonexistent</td>\n",
       "      <td>-2.87</td>\n",
       "      <td>46.4815</td>\n",
       "      <td>-28.56</td>\n",
       "      <td>2.217</td>\n",
       "      <td>5076.2</td>\n",
       "      <td>0</td>\n",
       "    </tr>\n",
       "    <tr>\n",
       "      <th>8</th>\n",
       "      <td>customer_id_27834</td>\n",
       "      <td>39</td>\n",
       "      <td>unemployed</td>\n",
       "      <td>single</td>\n",
       "      <td>university.degree</td>\n",
       "      <td>no</td>\n",
       "      <td>yes</td>\n",
       "      <td>no</td>\n",
       "      <td>cellular</td>\n",
       "      <td>mar</td>\n",
       "      <td>...</td>\n",
       "      <td>1</td>\n",
       "      <td>999</td>\n",
       "      <td>0</td>\n",
       "      <td>nonexistent</td>\n",
       "      <td>-1.77</td>\n",
       "      <td>46.4215</td>\n",
       "      <td>-35.00</td>\n",
       "      <td>2.642</td>\n",
       "      <td>5099.1</td>\n",
       "      <td>0</td>\n",
       "    </tr>\n",
       "    <tr>\n",
       "      <th>9</th>\n",
       "      <td>customer_id_9302</td>\n",
       "      <td>40</td>\n",
       "      <td>technician</td>\n",
       "      <td>single</td>\n",
       "      <td>professional.course</td>\n",
       "      <td>no</td>\n",
       "      <td>unknown</td>\n",
       "      <td>unknown</td>\n",
       "      <td>telephone</td>\n",
       "      <td>jun</td>\n",
       "      <td>...</td>\n",
       "      <td>3</td>\n",
       "      <td>999</td>\n",
       "      <td>0</td>\n",
       "      <td>nonexistent</td>\n",
       "      <td>1.43</td>\n",
       "      <td>47.2325</td>\n",
       "      <td>-29.26</td>\n",
       "      <td>5.969</td>\n",
       "      <td>5228.1</td>\n",
       "      <td>0</td>\n",
       "    </tr>\n",
       "  </tbody>\n",
       "</table>\n",
       "<p>10 rows × 22 columns</p>\n",
       "</div>"
      ],
      "text/plain": [
       "         customer_id  age           job  marital            education  \\\n",
       "0  customer_id_39075   31        admin.  married    university.degree   \n",
       "1  customer_id_34855   31    technician   single    university.degree   \n",
       "2   customer_id_7107   47   blue-collar  married             basic.6y   \n",
       "3  customer_id_31614   36      services  married    university.degree   \n",
       "4  customer_id_34878   34        admin.   single          high.school   \n",
       "5  customer_id_24606   48  entrepreneur  married    university.degree   \n",
       "6  customer_id_13094   34   blue-collar   single             basic.4y   \n",
       "7  customer_id_36912   34    technician   single  professional.course   \n",
       "8  customer_id_27834   39    unemployed   single    university.degree   \n",
       "9   customer_id_9302   40    technician   single  professional.course   \n",
       "\n",
       "   default  housing     loan    contact month  ... campaign  pdays  previous  \\\n",
       "0       no       no       no   cellular   dec  ...        3    999         1   \n",
       "1       no       no       no  telephone   may  ...        4    999         0   \n",
       "2  unknown      yes       no  telephone   may  ...        2    999         0   \n",
       "3       no       no       no   cellular   may  ...        1    999         1   \n",
       "4       no       no       no   cellular   may  ...        9    999         0   \n",
       "5       no      yes      yes   cellular   nov  ...        2    999         1   \n",
       "6  unknown       no       no   cellular   jul  ...        2    999         0   \n",
       "7       no       no       no   cellular   jun  ...        1    999         0   \n",
       "8       no      yes       no   cellular   mar  ...        1    999         0   \n",
       "9       no  unknown  unknown  telephone   jun  ...        3    999         0   \n",
       "\n",
       "      poutcome  emp_var_rate cons_price_idx  cons_conf_idx  euribor3m  \\\n",
       "0      failure         -2.97        46.3565         -23.10      1.711   \n",
       "1  nonexistent         -1.77        46.4465         -32.34      2.252   \n",
       "2  nonexistent          1.13        46.9970         -25.48      5.862   \n",
       "3      failure         -1.77        46.4465         -32.34      2.329   \n",
       "4  nonexistent         -1.77        46.4465         -32.34      2.252   \n",
       "5      failure         -0.07        46.6000         -29.40      5.193   \n",
       "6  nonexistent          1.43        46.9590         -29.89      5.964   \n",
       "7  nonexistent         -2.87        46.4815         -28.56      2.217   \n",
       "8  nonexistent         -1.77        46.4215         -35.00      2.642   \n",
       "9  nonexistent          1.43        47.2325         -29.26      5.969   \n",
       "\n",
       "   nr_employed  subscribed  \n",
       "0       5023.5           0  \n",
       "1       5099.1           0  \n",
       "2       5191.0           0  \n",
       "3       5099.1           0  \n",
       "4       5099.1           0  \n",
       "5       5195.8           0  \n",
       "6       5228.1           0  \n",
       "7       5076.2           0  \n",
       "8       5099.1           0  \n",
       "9       5228.1           0  \n",
       "\n",
       "[10 rows x 22 columns]"
      ]
     },
     "execution_count": 12,
     "metadata": {},
     "output_type": "execute_result"
    }
   ],
   "source": [
    "# Print First 10 Columns\n",
    "data.head(10)"
   ]
  },
  {
   "cell_type": "markdown",
   "id": "db00ab29-4f5f-427e-bc82-72c7f8969391",
   "metadata": {},
   "source": [
    "# Data Exploration"
   ]
  },
  {
   "cell_type": "code",
   "execution_count": 13,
   "id": "b7b589bd-bf52-45fa-9e2d-b7c7f1cd5a4e",
   "metadata": {},
   "outputs": [
    {
     "data": {
      "text/plain": [
       "customer_id       0\n",
       "age               0\n",
       "job               0\n",
       "marital           0\n",
       "education         0\n",
       "default           0\n",
       "housing           0\n",
       "loan              0\n",
       "contact           0\n",
       "month             0\n",
       "day_of_week       0\n",
       "duration          0\n",
       "campaign          0\n",
       "pdays             0\n",
       "previous          0\n",
       "poutcome          0\n",
       "emp_var_rate      0\n",
       "cons_price_idx    0\n",
       "cons_conf_idx     0\n",
       "euribor3m         0\n",
       "nr_employed       0\n",
       "subscribed        0\n",
       "dtype: int64"
      ]
     },
     "execution_count": 13,
     "metadata": {},
     "output_type": "execute_result"
    }
   ],
   "source": [
    "# Check for Missing Values\n",
    "data.isna().sum()"
   ]
  },
  {
   "cell_type": "markdown",
   "id": "da03b62f-3aa2-472a-bcc3-4152aa1558fc",
   "metadata": {},
   "source": [
    "# Since there are no missing values in the dataset, we are good to go"
   ]
  },
  {
   "cell_type": "code",
   "execution_count": 14,
   "id": "c8eced31-8739-4187-8f57-9a8cb69ab2eb",
   "metadata": {},
   "outputs": [
    {
     "data": {
      "text/html": [
       "<div>\n",
       "<style scoped>\n",
       "    .dataframe tbody tr th:only-of-type {\n",
       "        vertical-align: middle;\n",
       "    }\n",
       "\n",
       "    .dataframe tbody tr th {\n",
       "        vertical-align: top;\n",
       "    }\n",
       "\n",
       "    .dataframe thead th {\n",
       "        text-align: right;\n",
       "    }\n",
       "</style>\n",
       "<table border=\"1\" class=\"dataframe\">\n",
       "  <thead>\n",
       "    <tr style=\"text-align: right;\">\n",
       "      <th></th>\n",
       "      <th>age</th>\n",
       "      <th>duration</th>\n",
       "      <th>campaign</th>\n",
       "      <th>pdays</th>\n",
       "      <th>previous</th>\n",
       "      <th>emp_var_rate</th>\n",
       "      <th>cons_price_idx</th>\n",
       "      <th>cons_conf_idx</th>\n",
       "      <th>euribor3m</th>\n",
       "      <th>nr_employed</th>\n",
       "      <th>subscribed</th>\n",
       "    </tr>\n",
       "  </thead>\n",
       "  <tbody>\n",
       "    <tr>\n",
       "      <th>count</th>\n",
       "      <td>28831.000000</td>\n",
       "      <td>28831.000000</td>\n",
       "      <td>28831.000000</td>\n",
       "      <td>28831.000000</td>\n",
       "      <td>28831.000000</td>\n",
       "      <td>28831.000000</td>\n",
       "      <td>28831.000000</td>\n",
       "      <td>28831.000000</td>\n",
       "      <td>28831.000000</td>\n",
       "      <td>28831.000000</td>\n",
       "      <td>28831.000000</td>\n",
       "    </tr>\n",
       "    <tr>\n",
       "      <th>mean</th>\n",
       "      <td>42.011203</td>\n",
       "      <td>4.297919</td>\n",
       "      <td>2.575769</td>\n",
       "      <td>963.215844</td>\n",
       "      <td>0.172592</td>\n",
       "      <td>0.113202</td>\n",
       "      <td>46.788632</td>\n",
       "      <td>-28.360564</td>\n",
       "      <td>4.623599</td>\n",
       "      <td>5167.011880</td>\n",
       "      <td>0.112761</td>\n",
       "    </tr>\n",
       "    <tr>\n",
       "      <th>std</th>\n",
       "      <td>10.450128</td>\n",
       "      <td>4.336882</td>\n",
       "      <td>2.752303</td>\n",
       "      <td>185.077567</td>\n",
       "      <td>0.494338</td>\n",
       "      <td>1.570978</td>\n",
       "      <td>0.289847</td>\n",
       "      <td>3.244405</td>\n",
       "      <td>1.735202</td>\n",
       "      <td>72.542598</td>\n",
       "      <td>0.316305</td>\n",
       "    </tr>\n",
       "    <tr>\n",
       "      <th>min</th>\n",
       "      <td>19.000000</td>\n",
       "      <td>0.000000</td>\n",
       "      <td>1.000000</td>\n",
       "      <td>0.000000</td>\n",
       "      <td>0.000000</td>\n",
       "      <td>-3.370000</td>\n",
       "      <td>46.100500</td>\n",
       "      <td>-35.560000</td>\n",
       "      <td>1.636000</td>\n",
       "      <td>4963.600000</td>\n",
       "      <td>0.000000</td>\n",
       "    </tr>\n",
       "    <tr>\n",
       "      <th>25%</th>\n",
       "      <td>34.000000</td>\n",
       "      <td>1.700000</td>\n",
       "      <td>1.000000</td>\n",
       "      <td>999.000000</td>\n",
       "      <td>0.000000</td>\n",
       "      <td>-1.770000</td>\n",
       "      <td>46.537500</td>\n",
       "      <td>-29.890000</td>\n",
       "      <td>2.346000</td>\n",
       "      <td>5099.100000</td>\n",
       "      <td>0.000000</td>\n",
       "    </tr>\n",
       "    <tr>\n",
       "      <th>50%</th>\n",
       "      <td>40.000000</td>\n",
       "      <td>3.000000</td>\n",
       "      <td>2.000000</td>\n",
       "      <td>999.000000</td>\n",
       "      <td>0.000000</td>\n",
       "      <td>1.130000</td>\n",
       "      <td>46.874500</td>\n",
       "      <td>-29.260000</td>\n",
       "      <td>5.859000</td>\n",
       "      <td>5191.000000</td>\n",
       "      <td>0.000000</td>\n",
       "    </tr>\n",
       "    <tr>\n",
       "      <th>75%</th>\n",
       "      <td>49.000000</td>\n",
       "      <td>5.300000</td>\n",
       "      <td>3.000000</td>\n",
       "      <td>999.000000</td>\n",
       "      <td>0.000000</td>\n",
       "      <td>1.430000</td>\n",
       "      <td>46.997000</td>\n",
       "      <td>-25.480000</td>\n",
       "      <td>5.963000</td>\n",
       "      <td>5228.100000</td>\n",
       "      <td>0.000000</td>\n",
       "    </tr>\n",
       "    <tr>\n",
       "      <th>max</th>\n",
       "      <td>100.000000</td>\n",
       "      <td>81.966667</td>\n",
       "      <td>43.000000</td>\n",
       "      <td>999.000000</td>\n",
       "      <td>7.000000</td>\n",
       "      <td>1.430000</td>\n",
       "      <td>47.383500</td>\n",
       "      <td>-18.830000</td>\n",
       "      <td>6.047000</td>\n",
       "      <td>5228.100000</td>\n",
       "      <td>1.000000</td>\n",
       "    </tr>\n",
       "  </tbody>\n",
       "</table>\n",
       "</div>"
      ],
      "text/plain": [
       "                age      duration      campaign         pdays      previous  \\\n",
       "count  28831.000000  28831.000000  28831.000000  28831.000000  28831.000000   \n",
       "mean      42.011203      4.297919      2.575769    963.215844      0.172592   \n",
       "std       10.450128      4.336882      2.752303    185.077567      0.494338   \n",
       "min       19.000000      0.000000      1.000000      0.000000      0.000000   \n",
       "25%       34.000000      1.700000      1.000000    999.000000      0.000000   \n",
       "50%       40.000000      3.000000      2.000000    999.000000      0.000000   \n",
       "75%       49.000000      5.300000      3.000000    999.000000      0.000000   \n",
       "max      100.000000     81.966667     43.000000    999.000000      7.000000   \n",
       "\n",
       "       emp_var_rate  cons_price_idx  cons_conf_idx     euribor3m  \\\n",
       "count  28831.000000    28831.000000   28831.000000  28831.000000   \n",
       "mean       0.113202       46.788632     -28.360564      4.623599   \n",
       "std        1.570978        0.289847       3.244405      1.735202   \n",
       "min       -3.370000       46.100500     -35.560000      1.636000   \n",
       "25%       -1.770000       46.537500     -29.890000      2.346000   \n",
       "50%        1.130000       46.874500     -29.260000      5.859000   \n",
       "75%        1.430000       46.997000     -25.480000      5.963000   \n",
       "max        1.430000       47.383500     -18.830000      6.047000   \n",
       "\n",
       "        nr_employed    subscribed  \n",
       "count  28831.000000  28831.000000  \n",
       "mean    5167.011880      0.112761  \n",
       "std       72.542598      0.316305  \n",
       "min     4963.600000      0.000000  \n",
       "25%     5099.100000      0.000000  \n",
       "50%     5191.000000      0.000000  \n",
       "75%     5228.100000      0.000000  \n",
       "max     5228.100000      1.000000  "
      ]
     },
     "execution_count": 14,
     "metadata": {},
     "output_type": "execute_result"
    }
   ],
   "source": [
    "# Run a Descriptive Statistics on the Numerical Features\n",
    "data.describe()"
   ]
  },
  {
   "cell_type": "markdown",
   "id": "46a6253d-2c37-445c-bada-12d0ab48b329",
   "metadata": {},
   "source": [
    "A brief look at the difference between the 50%, 75% percentile and the max values for the age, duration and campaign highlights the presence of possible outliers"
   ]
  },
  {
   "cell_type": "markdown",
   "id": "74d9a143-5f5f-4b0e-bbbb-42cbf721aa37",
   "metadata": {},
   "source": [
    "Let's confirm the presence of these outliers visually using a box plot"
   ]
  },
  {
   "cell_type": "code",
   "execution_count": 15,
   "id": "d60e9f39-e763-41e5-9518-065f22023cc1",
   "metadata": {},
   "outputs": [],
   "source": [
    "numeric_features = ['age', 'duration', 'campaign', 'pdays', 'previous', 'emp_var_rate', 'cons_price_idx', 'cons_conf_idx', 'euribor3m', 'nr_employed']\n",
    "categorical_features = ['job', 'marital', 'education', 'default', 'housing', 'loan', 'contact', 'month', 'day_of_week', 'poutcome']"
   ]
  },
  {
   "cell_type": "code",
   "execution_count": null,
   "id": "96ab75ef-049a-4068-b7aa-e395aaee5db5",
   "metadata": {},
   "outputs": [],
   "source": [
    "#Show the distribution of each numeric variable\n",
    "for column in numeric_features:\n",
    "    fig = plt.figure(figsize=(20, 6))\n",
    "    ax = fig.gca()\n",
    "    variable = data[column]\n",
    "    variable.hist(bins=15, ax = ax)\n",
    "    ax.axvline(variable.mean(), color='red', linestyle='dashed', linewidth=2)\n",
    "    ax.axvline(variable.median(), color='yellow', linestyle='dashed', linewidth=2)\n",
    "    ax.set_title(column)\n",
    "plt.show()"
   ]
  },
  {
   "cell_type": "markdown",
   "id": "5b675f6d-9064-44ce-a2f2-ccd601ba7e96",
   "metadata": {},
   "source": [
    "Check the distribution of the categorical variables"
   ]
  },
  {
   "cell_type": "code",
   "execution_count": null,
   "id": "a648a06c-3a61-40ff-83f3-9d7d9029a3b8",
   "metadata": {},
   "outputs": [],
   "source": [
    "for columns in categorical_features:\n",
    "    counts = data[columns].value_counts().sort_index()\n",
    "    fig = plt.figure(figsize=(20, 6))\n",
    "    ax = fig.gca()\n",
    "    counts.plot.bar(ax = ax, color='Blue')\n",
    "    ax.set_title(columns + ' counts')\n",
    "    ax.set_xlabel(columns) \n",
    "    ax.set_ylabel(\"Frequency\")\n",
    "plt.show()"
   ]
  },
  {
   "cell_type": "markdown",
   "id": "ef3d04ce-a9ae-4eb1-a0bb-c9b973326c70",
   "metadata": {},
   "source": [
    "Also, the pandas profiling report let's you do a general exploratory analysis"
   ]
  },
  {
   "cell_type": "code",
   "execution_count": null,
   "id": "7ff3b46b-d449-4e1e-a72e-460509696893",
   "metadata": {},
   "outputs": [],
   "source": [
    "#Profile the train data\n",
    "from pandas_profiling import ProfileReport\n",
    "profile = ProfileReport(data, title=\"Training Dataset Exploratory Analysis\", html={'style': {'full_width': True}}, sort=None)\n",
    "profile.to_notebook_iframe()"
   ]
  },
  {
   "cell_type": "markdown",
   "id": "5a52cb48-ea02-4bb9-8529-407ba6a87da3",
   "metadata": {},
   "source": [
    "# Feature Selection Using Pearson Correlation"
   ]
  },
  {
   "cell_type": "code",
   "execution_count": 16,
   "id": "c04f7f68",
   "metadata": {},
   "outputs": [
    {
     "name": "stdout",
     "output_type": "stream",
     "text": [
      "<class 'pandas.core.frame.DataFrame'>\n",
      "RangeIndex: 28831 entries, 0 to 28830\n",
      "Data columns (total 22 columns):\n",
      " #   Column          Non-Null Count  Dtype  \n",
      "---  ------          --------------  -----  \n",
      " 0   customer_id     28831 non-null  object \n",
      " 1   age             28831 non-null  int64  \n",
      " 2   job             28831 non-null  object \n",
      " 3   marital         28831 non-null  object \n",
      " 4   education       28831 non-null  object \n",
      " 5   default         28831 non-null  object \n",
      " 6   housing         28831 non-null  object \n",
      " 7   loan            28831 non-null  object \n",
      " 8   contact         28831 non-null  object \n",
      " 9   month           28831 non-null  object \n",
      " 10  day_of_week     28831 non-null  object \n",
      " 11  duration        28831 non-null  float64\n",
      " 12  campaign        28831 non-null  int64  \n",
      " 13  pdays           28831 non-null  int64  \n",
      " 14  previous        28831 non-null  int64  \n",
      " 15  poutcome        28831 non-null  object \n",
      " 16  emp_var_rate    28831 non-null  float64\n",
      " 17  cons_price_idx  28831 non-null  float64\n",
      " 18  cons_conf_idx   28831 non-null  float64\n",
      " 19  euribor3m       28831 non-null  float64\n",
      " 20  nr_employed     28831 non-null  float64\n",
      " 21  subscribed      28831 non-null  int64  \n",
      "dtypes: float64(6), int64(5), object(11)\n",
      "memory usage: 4.8+ MB\n"
     ]
    }
   ],
   "source": [
    "data.info()"
   ]
  },
  {
   "cell_type": "code",
   "execution_count": 17,
   "id": "92e8b84d-7f1c-4829-b1fd-e14eef74a228",
   "metadata": {},
   "outputs": [
    {
     "data": {
      "text/html": [
       "<div>\n",
       "<style scoped>\n",
       "    .dataframe tbody tr th:only-of-type {\n",
       "        vertical-align: middle;\n",
       "    }\n",
       "\n",
       "    .dataframe tbody tr th {\n",
       "        vertical-align: top;\n",
       "    }\n",
       "\n",
       "    .dataframe thead th {\n",
       "        text-align: right;\n",
       "    }\n",
       "</style>\n",
       "<table border=\"1\" class=\"dataframe\">\n",
       "  <thead>\n",
       "    <tr style=\"text-align: right;\">\n",
       "      <th></th>\n",
       "      <th>customer_id</th>\n",
       "      <th>age</th>\n",
       "      <th>job</th>\n",
       "      <th>marital</th>\n",
       "      <th>education</th>\n",
       "      <th>default</th>\n",
       "      <th>housing</th>\n",
       "      <th>loan</th>\n",
       "      <th>contact</th>\n",
       "      <th>month</th>\n",
       "      <th>...</th>\n",
       "      <th>campaign</th>\n",
       "      <th>pdays</th>\n",
       "      <th>previous</th>\n",
       "      <th>poutcome</th>\n",
       "      <th>emp_var_rate</th>\n",
       "      <th>cons_price_idx</th>\n",
       "      <th>cons_conf_idx</th>\n",
       "      <th>euribor3m</th>\n",
       "      <th>nr_employed</th>\n",
       "      <th>subscribed</th>\n",
       "    </tr>\n",
       "  </thead>\n",
       "  <tbody>\n",
       "    <tr>\n",
       "      <th>0</th>\n",
       "      <td>customer_id_39075</td>\n",
       "      <td>31</td>\n",
       "      <td>0</td>\n",
       "      <td>1</td>\n",
       "      <td>6</td>\n",
       "      <td>0</td>\n",
       "      <td>0</td>\n",
       "      <td>0</td>\n",
       "      <td>0</td>\n",
       "      <td>2</td>\n",
       "      <td>...</td>\n",
       "      <td>3</td>\n",
       "      <td>999</td>\n",
       "      <td>1</td>\n",
       "      <td>0</td>\n",
       "      <td>-2.97</td>\n",
       "      <td>46.3565</td>\n",
       "      <td>-23.10</td>\n",
       "      <td>1.711</td>\n",
       "      <td>5023.5</td>\n",
       "      <td>0</td>\n",
       "    </tr>\n",
       "    <tr>\n",
       "      <th>1</th>\n",
       "      <td>customer_id_34855</td>\n",
       "      <td>31</td>\n",
       "      <td>9</td>\n",
       "      <td>2</td>\n",
       "      <td>6</td>\n",
       "      <td>0</td>\n",
       "      <td>0</td>\n",
       "      <td>0</td>\n",
       "      <td>1</td>\n",
       "      <td>6</td>\n",
       "      <td>...</td>\n",
       "      <td>4</td>\n",
       "      <td>999</td>\n",
       "      <td>0</td>\n",
       "      <td>1</td>\n",
       "      <td>-1.77</td>\n",
       "      <td>46.4465</td>\n",
       "      <td>-32.34</td>\n",
       "      <td>2.252</td>\n",
       "      <td>5099.1</td>\n",
       "      <td>0</td>\n",
       "    </tr>\n",
       "    <tr>\n",
       "      <th>2</th>\n",
       "      <td>customer_id_7107</td>\n",
       "      <td>47</td>\n",
       "      <td>1</td>\n",
       "      <td>1</td>\n",
       "      <td>1</td>\n",
       "      <td>1</td>\n",
       "      <td>2</td>\n",
       "      <td>0</td>\n",
       "      <td>1</td>\n",
       "      <td>6</td>\n",
       "      <td>...</td>\n",
       "      <td>2</td>\n",
       "      <td>999</td>\n",
       "      <td>0</td>\n",
       "      <td>1</td>\n",
       "      <td>1.13</td>\n",
       "      <td>46.9970</td>\n",
       "      <td>-25.48</td>\n",
       "      <td>5.862</td>\n",
       "      <td>5191.0</td>\n",
       "      <td>0</td>\n",
       "    </tr>\n",
       "    <tr>\n",
       "      <th>3</th>\n",
       "      <td>customer_id_31614</td>\n",
       "      <td>36</td>\n",
       "      <td>7</td>\n",
       "      <td>1</td>\n",
       "      <td>6</td>\n",
       "      <td>0</td>\n",
       "      <td>0</td>\n",
       "      <td>0</td>\n",
       "      <td>0</td>\n",
       "      <td>6</td>\n",
       "      <td>...</td>\n",
       "      <td>1</td>\n",
       "      <td>999</td>\n",
       "      <td>1</td>\n",
       "      <td>0</td>\n",
       "      <td>-1.77</td>\n",
       "      <td>46.4465</td>\n",
       "      <td>-32.34</td>\n",
       "      <td>2.329</td>\n",
       "      <td>5099.1</td>\n",
       "      <td>0</td>\n",
       "    </tr>\n",
       "    <tr>\n",
       "      <th>4</th>\n",
       "      <td>customer_id_34878</td>\n",
       "      <td>34</td>\n",
       "      <td>0</td>\n",
       "      <td>2</td>\n",
       "      <td>3</td>\n",
       "      <td>0</td>\n",
       "      <td>0</td>\n",
       "      <td>0</td>\n",
       "      <td>0</td>\n",
       "      <td>6</td>\n",
       "      <td>...</td>\n",
       "      <td>9</td>\n",
       "      <td>999</td>\n",
       "      <td>0</td>\n",
       "      <td>1</td>\n",
       "      <td>-1.77</td>\n",
       "      <td>46.4465</td>\n",
       "      <td>-32.34</td>\n",
       "      <td>2.252</td>\n",
       "      <td>5099.1</td>\n",
       "      <td>0</td>\n",
       "    </tr>\n",
       "    <tr>\n",
       "      <th>5</th>\n",
       "      <td>customer_id_24606</td>\n",
       "      <td>48</td>\n",
       "      <td>2</td>\n",
       "      <td>1</td>\n",
       "      <td>6</td>\n",
       "      <td>0</td>\n",
       "      <td>2</td>\n",
       "      <td>2</td>\n",
       "      <td>0</td>\n",
       "      <td>7</td>\n",
       "      <td>...</td>\n",
       "      <td>2</td>\n",
       "      <td>999</td>\n",
       "      <td>1</td>\n",
       "      <td>0</td>\n",
       "      <td>-0.07</td>\n",
       "      <td>46.6000</td>\n",
       "      <td>-29.40</td>\n",
       "      <td>5.193</td>\n",
       "      <td>5195.8</td>\n",
       "      <td>0</td>\n",
       "    </tr>\n",
       "    <tr>\n",
       "      <th>6</th>\n",
       "      <td>customer_id_13094</td>\n",
       "      <td>34</td>\n",
       "      <td>1</td>\n",
       "      <td>2</td>\n",
       "      <td>0</td>\n",
       "      <td>1</td>\n",
       "      <td>0</td>\n",
       "      <td>0</td>\n",
       "      <td>0</td>\n",
       "      <td>3</td>\n",
       "      <td>...</td>\n",
       "      <td>2</td>\n",
       "      <td>999</td>\n",
       "      <td>0</td>\n",
       "      <td>1</td>\n",
       "      <td>1.43</td>\n",
       "      <td>46.9590</td>\n",
       "      <td>-29.89</td>\n",
       "      <td>5.964</td>\n",
       "      <td>5228.1</td>\n",
       "      <td>0</td>\n",
       "    </tr>\n",
       "    <tr>\n",
       "      <th>7</th>\n",
       "      <td>customer_id_36912</td>\n",
       "      <td>34</td>\n",
       "      <td>9</td>\n",
       "      <td>2</td>\n",
       "      <td>5</td>\n",
       "      <td>0</td>\n",
       "      <td>0</td>\n",
       "      <td>0</td>\n",
       "      <td>0</td>\n",
       "      <td>4</td>\n",
       "      <td>...</td>\n",
       "      <td>1</td>\n",
       "      <td>999</td>\n",
       "      <td>0</td>\n",
       "      <td>1</td>\n",
       "      <td>-2.87</td>\n",
       "      <td>46.4815</td>\n",
       "      <td>-28.56</td>\n",
       "      <td>2.217</td>\n",
       "      <td>5076.2</td>\n",
       "      <td>0</td>\n",
       "    </tr>\n",
       "    <tr>\n",
       "      <th>8</th>\n",
       "      <td>customer_id_27834</td>\n",
       "      <td>39</td>\n",
       "      <td>10</td>\n",
       "      <td>2</td>\n",
       "      <td>6</td>\n",
       "      <td>0</td>\n",
       "      <td>2</td>\n",
       "      <td>0</td>\n",
       "      <td>0</td>\n",
       "      <td>5</td>\n",
       "      <td>...</td>\n",
       "      <td>1</td>\n",
       "      <td>999</td>\n",
       "      <td>0</td>\n",
       "      <td>1</td>\n",
       "      <td>-1.77</td>\n",
       "      <td>46.4215</td>\n",
       "      <td>-35.00</td>\n",
       "      <td>2.642</td>\n",
       "      <td>5099.1</td>\n",
       "      <td>0</td>\n",
       "    </tr>\n",
       "    <tr>\n",
       "      <th>9</th>\n",
       "      <td>customer_id_9302</td>\n",
       "      <td>40</td>\n",
       "      <td>9</td>\n",
       "      <td>2</td>\n",
       "      <td>5</td>\n",
       "      <td>0</td>\n",
       "      <td>1</td>\n",
       "      <td>1</td>\n",
       "      <td>1</td>\n",
       "      <td>4</td>\n",
       "      <td>...</td>\n",
       "      <td>3</td>\n",
       "      <td>999</td>\n",
       "      <td>0</td>\n",
       "      <td>1</td>\n",
       "      <td>1.43</td>\n",
       "      <td>47.2325</td>\n",
       "      <td>-29.26</td>\n",
       "      <td>5.969</td>\n",
       "      <td>5228.1</td>\n",
       "      <td>0</td>\n",
       "    </tr>\n",
       "  </tbody>\n",
       "</table>\n",
       "<p>10 rows × 22 columns</p>\n",
       "</div>"
      ],
      "text/plain": [
       "         customer_id  age  job  marital  education  default  housing  loan  \\\n",
       "0  customer_id_39075   31    0        1          6        0        0     0   \n",
       "1  customer_id_34855   31    9        2          6        0        0     0   \n",
       "2   customer_id_7107   47    1        1          1        1        2     0   \n",
       "3  customer_id_31614   36    7        1          6        0        0     0   \n",
       "4  customer_id_34878   34    0        2          3        0        0     0   \n",
       "5  customer_id_24606   48    2        1          6        0        2     2   \n",
       "6  customer_id_13094   34    1        2          0        1        0     0   \n",
       "7  customer_id_36912   34    9        2          5        0        0     0   \n",
       "8  customer_id_27834   39   10        2          6        0        2     0   \n",
       "9   customer_id_9302   40    9        2          5        0        1     1   \n",
       "\n",
       "   contact  month  ...  campaign  pdays  previous  poutcome  emp_var_rate  \\\n",
       "0        0      2  ...         3    999         1         0         -2.97   \n",
       "1        1      6  ...         4    999         0         1         -1.77   \n",
       "2        1      6  ...         2    999         0         1          1.13   \n",
       "3        0      6  ...         1    999         1         0         -1.77   \n",
       "4        0      6  ...         9    999         0         1         -1.77   \n",
       "5        0      7  ...         2    999         1         0         -0.07   \n",
       "6        0      3  ...         2    999         0         1          1.43   \n",
       "7        0      4  ...         1    999         0         1         -2.87   \n",
       "8        0      5  ...         1    999         0         1         -1.77   \n",
       "9        1      4  ...         3    999         0         1          1.43   \n",
       "\n",
       "   cons_price_idx  cons_conf_idx  euribor3m  nr_employed  subscribed  \n",
       "0         46.3565         -23.10      1.711       5023.5           0  \n",
       "1         46.4465         -32.34      2.252       5099.1           0  \n",
       "2         46.9970         -25.48      5.862       5191.0           0  \n",
       "3         46.4465         -32.34      2.329       5099.1           0  \n",
       "4         46.4465         -32.34      2.252       5099.1           0  \n",
       "5         46.6000         -29.40      5.193       5195.8           0  \n",
       "6         46.9590         -29.89      5.964       5228.1           0  \n",
       "7         46.4815         -28.56      2.217       5076.2           0  \n",
       "8         46.4215         -35.00      2.642       5099.1           0  \n",
       "9         47.2325         -29.26      5.969       5228.1           0  \n",
       "\n",
       "[10 rows x 22 columns]"
      ]
     },
     "execution_count": 17,
     "metadata": {},
     "output_type": "execute_result"
    }
   ],
   "source": [
    "# Apply Label Encoding to data\n",
    "# Import Library\n",
    "from sklearn.preprocessing import LabelEncoder\n",
    "\n",
    "# Encode data\n",
    "data_encoded = data.copy()\n",
    "\n",
    "job_encoder = LabelEncoder()\n",
    "data_encoded['job'] = job_encoder.fit_transform(data_encoded['job'])\n",
    "\n",
    "marital_encoder = LabelEncoder()\n",
    "data_encoded['marital'] = marital_encoder.fit_transform(data_encoded['marital'])\n",
    "\n",
    "education_encoder = LabelEncoder()\n",
    "data_encoded['education'] = education_encoder.fit_transform(data_encoded['education'])\n",
    "\n",
    "default_encoder = LabelEncoder()\n",
    "data_encoded['default'] = default_encoder.fit_transform(data_encoded['default'])\n",
    "\n",
    "loan_encoder = LabelEncoder()\n",
    "data_encoded['loan'] = loan_encoder.fit_transform(data_encoded['loan'])\n",
    "\n",
    "housing_encoder = LabelEncoder()\n",
    "data_encoded['housing'] = housing_encoder.fit_transform(data_encoded['housing'])\n",
    "\n",
    "contact_encoder = LabelEncoder()\n",
    "data_encoded['contact'] = contact_encoder.fit_transform(data_encoded['contact'])\n",
    "\n",
    "month_encoder = LabelEncoder()\n",
    "data_encoded['month'] = month_encoder.fit_transform(data_encoded['month'])\n",
    "\n",
    "day_of_week_encoder = LabelEncoder()\n",
    "data_encoded['day_of_week'] = day_of_week_encoder.fit_transform(data_encoded['day_of_week'])\n",
    "\n",
    "poutcome_encoder = LabelEncoder()\n",
    "data_encoded['poutcome'] = poutcome_encoder.fit_transform(data_encoded['poutcome'])\n",
    "\n",
    "# Print first 10 rows\n",
    "data_encoded.head(10)"
   ]
  },
  {
   "cell_type": "code",
   "execution_count": 18,
   "id": "f90eecab-5230-4f0a-9c12-e4b48ebdd52d",
   "metadata": {},
   "outputs": [
    {
     "name": "stdout",
     "output_type": "stream",
     "text": [
      "<class 'pandas.core.frame.DataFrame'>\n",
      "RangeIndex: 28831 entries, 0 to 28830\n",
      "Data columns (total 22 columns):\n",
      " #   Column          Non-Null Count  Dtype  \n",
      "---  ------          --------------  -----  \n",
      " 0   customer_id     28831 non-null  object \n",
      " 1   age             28831 non-null  int64  \n",
      " 2   job             28831 non-null  int32  \n",
      " 3   marital         28831 non-null  int32  \n",
      " 4   education       28831 non-null  int32  \n",
      " 5   default         28831 non-null  int32  \n",
      " 6   housing         28831 non-null  int32  \n",
      " 7   loan            28831 non-null  int32  \n",
      " 8   contact         28831 non-null  int32  \n",
      " 9   month           28831 non-null  int32  \n",
      " 10  day_of_week     28831 non-null  int32  \n",
      " 11  duration        28831 non-null  float64\n",
      " 12  campaign        28831 non-null  int64  \n",
      " 13  pdays           28831 non-null  int64  \n",
      " 14  previous        28831 non-null  int64  \n",
      " 15  poutcome        28831 non-null  int32  \n",
      " 16  emp_var_rate    28831 non-null  float64\n",
      " 17  cons_price_idx  28831 non-null  float64\n",
      " 18  cons_conf_idx   28831 non-null  float64\n",
      " 19  euribor3m       28831 non-null  float64\n",
      " 20  nr_employed     28831 non-null  float64\n",
      " 21  subscribed      28831 non-null  int64  \n",
      "dtypes: float64(6), int32(10), int64(5), object(1)\n",
      "memory usage: 3.7+ MB\n"
     ]
    }
   ],
   "source": [
    "data_encoded.info()"
   ]
  },
  {
   "cell_type": "code",
   "execution_count": 19,
   "id": "f2a057a5-8889-4d15-bf19-40e08e228816",
   "metadata": {},
   "outputs": [
    {
     "data": {
      "image/png": "[encoded data removed]",
      "text/plain": [
       "<Figure size 1440x1080 with 2 Axes>"
      ]
     },
     "metadata": {
      "needs_background": "light"
     },
     "output_type": "display_data"
    }
   ],
   "source": [
    "import seaborn as sns\n",
    "\n",
    "# Apply Pearson Correlation\n",
    "plt.figure(figsize=(20,15))\n",
    "cor = data_encoded.corr()\n",
    "sns.heatmap(cor, annot=True, cmap=plt.cm.CMRmap_r)\n",
    "plt.show()"
   ]
  },
  {
   "cell_type": "markdown",
   "id": "41095d05-4d07-457b-b941-a3105fc8b98b",
   "metadata": {},
   "source": [
    "With the following function we can select highly correlated features. It will remove the first feature that is correlated with any other feature"
   ]
  },
  {
   "cell_type": "code",
   "execution_count": 20,
   "id": "4413b8b3-92be-472b-8f9a-948a2759e44e",
   "metadata": {
    "tags": []
   },
   "outputs": [],
   "source": [
    "def correlation(dataset, threshold):\n",
    "    col_corr = set()  #Set all the names of the correlated columns\n",
    "    corr_matrix = dataset.corr()\n",
    "    for i in range(len(corr_matrix.columns)):\n",
    "        for j in range(i):\n",
    "            if abs(corr_matrix.iloc[i, j]) > threshold: # We are interested in absolute coefficient value\n",
    "                colname = corr_matrix.columns[i]   # Getting the name of column\n",
    "                col_corr.add(colname)\n",
    "    return col_corr"
   ]
  },
  {
   "cell_type": "code",
   "execution_count": 21,
   "id": "38a4d034-72b4-45af-8515-14c12c0559cb",
   "metadata": {},
   "outputs": [
    {
     "data": {
      "text/plain": [
       "{'campaign',\n",
       " 'cons_conf_idx',\n",
       " 'cons_price_idx',\n",
       " 'contact',\n",
       " 'day_of_week',\n",
       " 'default',\n",
       " 'duration',\n",
       " 'education',\n",
       " 'emp_var_rate',\n",
       " 'euribor3m',\n",
       " 'housing',\n",
       " 'loan',\n",
       " 'marital',\n",
       " 'month',\n",
       " 'nr_employed',\n",
       " 'pdays',\n",
       " 'poutcome',\n",
       " 'previous',\n",
       " 'subscribed'}"
      ]
     },
     "execution_count": 21,
     "metadata": {},
     "output_type": "execute_result"
    }
   ],
   "source": [
    "correlated_features = correlation(data_encoded, 0.01)\n",
    "correlated_features"
   ]
  },
  {
   "cell_type": "markdown",
   "id": "63bc6285-7cd2-4131-8b06-e34ae143e20a",
   "metadata": {},
   "source": [
    "# Train-Test Splitting"
   ]
  },
  {
   "cell_type": "code",
   "execution_count": 22,
   "id": "4130210f-7da5-4f6a-9d30-23ddf35ab7c4",
   "metadata": {},
   "outputs": [
    {
     "name": "stdout",
     "output_type": "stream",
     "text": [
      "   marital  cons_conf_idx  day_of_week  emp_var_rate  education  previous  \\\n",
      "0        1         -23.10            1         -2.97          6         1   \n",
      "1        2         -32.34            0         -1.77          6         0   \n",
      "2        1         -25.48            2          1.13          1         0   \n",
      "3        1         -32.34            2         -1.77          6         1   \n",
      "4        2         -32.34            0         -1.77          3         0   \n",
      "\n",
      "   loan  poutcome  contact  campaign  housing   duration  cons_price_idx  \\\n",
      "0     0         0        0         3        0   1.283333         46.3565   \n",
      "1     0         1        1         4        0   0.200000         46.4465   \n",
      "2     0         1        1         2        2   4.616667         46.9970   \n",
      "3     0         0        0         1        0   1.166667         46.4465   \n",
      "4     0         1        0         9        0  19.683333         46.4465   \n",
      "\n",
      "   default  euribor3m  nr_employed  pdays  month  \n",
      "0        0      1.711       5023.5    999      2  \n",
      "1        0      2.252       5099.1    999      6  \n",
      "2        1      5.862       5191.0    999      6  \n",
      "3        0      2.329       5099.1    999      6  \n",
      "4        0      2.252       5099.1    999      6  \n",
      "0    0\n",
      "1    0\n",
      "2    0\n",
      "3    0\n",
      "4    0\n",
      "Name: subscribed, dtype: int64\n"
     ]
    },
    {
     "name": "stderr",
     "output_type": "stream",
     "text": [
      "C:\\Users\\User\\AppData\\Local\\Temp/ipykernel_24456/2031292629.py:2: FutureWarning: Passing a set as an indexer is deprecated and will raise in a future version. Use a list instead.\n",
      "  X = data_encoded[correlated_features].drop('subscribed', axis = 1)\n"
     ]
    }
   ],
   "source": [
    "# Split Data into Features and Label\n",
    "X = data_encoded[correlated_features].drop('subscribed', axis = 1)\n",
    "y = data_encoded.subscribed\n",
    "\n",
    "print(X.head())\n",
    "print(y.head())"
   ]
  },
  {
   "cell_type": "code",
   "execution_count": 23,
   "id": "91cc168d-25e7-484e-8a71-f32ba2eb3179",
   "metadata": {},
   "outputs": [],
   "source": [
    "# Split dataset into training and test\n",
    "from sklearn.model_selection import train_test_split\n",
    "X_train, X_test, y_train, y_test = train_test_split(X, y, test_size=0.2, random_state=0, stratify=data_encoded.subscribed)"
   ]
  },
  {
   "cell_type": "markdown",
   "id": "63b7c225-13f3-40f1-a697-6bb09d705cee",
   "metadata": {},
   "source": [
    "# Functions Used in Model Evaluation"
   ]
  },
  {
   "cell_type": "code",
   "execution_count": 24,
   "id": "34505fba-4727-487e-a5d0-cc50a2404e1e",
   "metadata": {},
   "outputs": [],
   "source": [
    "def ConfusionMatrix(ytest, ypred, label = [\"Negative\", \"Positive\"]):\n",
    "    \"A beautiful confusion matrix function to check the model performance\"\n",
    "    from sklearn.metrics import confusion_matrix\n",
    "    import seaborn as sns\n",
    "    import matplotlib.pyplot as plt\n",
    "    cm = confusion_matrix(ytest, ypred)\n",
    "    plt.figure(figsize=(7, 5))\n",
    "    sns.heatmap(cm, annot = True, cbar = False, fmt = 'd', cmap = 'Blues')\n",
    "    plt.xlabel('Predicted Value', fontsize = 13)\n",
    "    plt.xticks([0.5, 1.5], label)\n",
    "    plt.yticks([0.5, 1.5], label)\n",
    "    plt.ylabel('Actual Value', fontsize = 13)\n",
    "    plt.title('A confusion matrix');"
   ]
  },
  {
   "cell_type": "code",
   "execution_count": 25,
   "id": "481a54d2-9fa6-4e29-b394-3bd6de2f5906",
   "metadata": {},
   "outputs": [],
   "source": [
    "def Classification_Report(ytest, ypred):\n",
    "    from sklearn.metrics import classification_report\n",
    "    cr = classification_report(ytest, ypred)\n",
    "    return cr"
   ]
  },
  {
   "cell_type": "markdown",
   "id": "b55cd7f8-9a32-4c53-b8b9-2fbf8bc60316",
   "metadata": {},
   "source": [
    "# Logistic Regressor"
   ]
  },
  {
   "cell_type": "code",
   "execution_count": 26,
   "id": "47620ec9-12c3-477a-9d3b-751b2fb80633",
   "metadata": {},
   "outputs": [
    {
     "name": "stderr",
     "output_type": "stream",
     "text": [
      "C:\\ProgramData\\Anaconda3\\lib\\site-packages\\sklearn\\linear_model\\_logistic.py:763: ConvergenceWarning: lbfgs failed to converge (status=1):\n",
      "STOP: TOTAL NO. of ITERATIONS REACHED LIMIT.\n",
      "\n",
      "Increase the number of iterations (max_iter) or scale the data as shown in:\n",
      "    https://scikit-learn.org/stable/modules/preprocessing.html\n",
      "Please also refer to the documentation for alternative solver options:\n",
      "    https://scikit-learn.org/stable/modules/linear_model.html#logistic-regression\n",
      "  n_iter_i = _check_optimize_result(\n"
     ]
    }
   ],
   "source": [
    "# Import Library\n",
    "from sklearn.linear_model import LogisticRegression\n",
    "\n",
    "# Create regressor\n",
    "regressor = LogisticRegression()\n",
    "\n",
    "# Train the data\n",
    "lr_model = regressor.fit(X_train, y_train)"
   ]
  },
  {
   "cell_type": "code",
   "execution_count": 27,
   "id": "f3dea445-f3bf-42d7-bda9-ba90437a814e",
   "metadata": {},
   "outputs": [
    {
     "name": "stdout",
     "output_type": "stream",
     "text": [
      "              precision    recall  f1-score   support\n",
      "\n",
      "           0       0.92      0.97      0.95      5117\n",
      "           1       0.61      0.35      0.44       650\n",
      "\n",
      "    accuracy                           0.90      5767\n",
      "   macro avg       0.76      0.66      0.70      5767\n",
      "weighted avg       0.89      0.90      0.89      5767\n",
      "\n"
     ]
    }
   ],
   "source": [
    "# Get predictions from test data\n",
    "lr_predictions = lr_model.predict(X_test)\n",
    "\n",
    "# Evaluate Model\n",
    "lr_report = Classification_Report(y_test, lr_predictions)\n",
    "print(lr_report)"
   ]
  },
  {
   "cell_type": "code",
   "execution_count": 28,
   "id": "8541055c-77ad-440e-9e64-5c20d59ce29a",
   "metadata": {},
   "outputs": [
    {
     "data": {
      "image/png": "[encoded data removed]",
      "text/plain": [
       "<Figure size 504x360 with 1 Axes>"
      ]
     },
     "metadata": {
      "needs_background": "light"
     },
     "output_type": "display_data"
    }
   ],
   "source": [
    "# Use Confusion Matrix For Model Evaluation\n",
    "ConfusionMatrix(y_test, lr_predictions, label = ['Not Subscribed', 'Subscribed'])"
   ]
  },
  {
   "cell_type": "markdown",
   "id": "7e4427e9-bb55-433e-b1ff-78d892c72ea1",
   "metadata": {},
   "source": [
    "# Random Forest Model"
   ]
  },
  {
   "cell_type": "code",
   "execution_count": 29,
   "id": "43c1c7d0-2982-4582-b0e7-7976e52e51c8",
   "metadata": {},
   "outputs": [
    {
     "name": "stdout",
     "output_type": "stream",
     "text": [
      "RandomForestClassifier()\n"
     ]
    }
   ],
   "source": [
    "# Import Library\n",
    "from sklearn.ensemble import RandomForestClassifier\n",
    "\n",
    "# Create Randome Forest Classifier\n",
    "Random_Forest = RandomForestClassifier()\n",
    "\n",
    "# Create Randome Forest Model\n",
    "RF_model = Random_Forest.fit(X_train, y_train)\n",
    "print(RF_model)"
   ]
  },
  {
   "cell_type": "code",
   "execution_count": 30,
   "id": "b3c155ff-effc-409b-9340-bf6ca3a5f567",
   "metadata": {},
   "outputs": [
    {
     "name": "stdout",
     "output_type": "stream",
     "text": [
      "              precision    recall  f1-score   support\n",
      "\n",
      "           0       0.94      0.96      0.95      5117\n",
      "           1       0.65      0.53      0.59       650\n",
      "\n",
      "    accuracy                           0.92      5767\n",
      "   macro avg       0.80      0.75      0.77      5767\n",
      "weighted avg       0.91      0.92      0.91      5767\n",
      "\n"
     ]
    }
   ],
   "source": [
    "# Get predictions from Random Forest Model\n",
    "RF_predictions = RF_model.predict(X_test)\n",
    "\n",
    "# Evaluate Predictions\n",
    "RF_report = Classification_Report(y_test, RF_predictions)\n",
    "print(RF_report)"
   ]
  },
  {
   "cell_type": "code",
   "execution_count": 31,
   "id": "3e6e6307-9525-4892-95b7-b8f928e54c72",
   "metadata": {},
   "outputs": [
    {
     "data": {
      "image/png": "[encoded data removed]",
      "text/plain": [
       "<Figure size 504x360 with 1 Axes>"
      ]
     },
     "metadata": {
      "needs_background": "light"
     },
     "output_type": "display_data"
    }
   ],
   "source": [
    "# Use Confusion Matrix For Model Evaluation\n",
    "ConfusionMatrix(y_test, RF_predictions, label = ['Not Subscribed', 'Subscribed'])"
   ]
  },
  {
   "cell_type": "markdown",
   "id": "e5853d60-bcec-4c09-b787-9ad31c9a11a7",
   "metadata": {},
   "source": [
    "# Support Vector Machine"
   ]
  },
  {
   "cell_type": "code",
   "execution_count": 32,
   "id": "ae7ec890-b7f2-4e0c-aa12-63869b5968eb",
   "metadata": {},
   "outputs": [
    {
     "name": "stdout",
     "output_type": "stream",
     "text": [
      "SVC()\n"
     ]
    }
   ],
   "source": [
    "# Import Library\n",
    "from sklearn.svm import SVC\n",
    "\n",
    "# Create Vector Machine\n",
    "svm_machine = SVC()\n",
    "\n",
    "# Create Model\n",
    "svm_model = svm_machine.fit(X_train, y_train)\n",
    "print(svm_model)"
   ]
  },
  {
   "cell_type": "code",
   "execution_count": 33,
   "id": "09f7d6bd-1023-45ef-8db1-864e575095f6",
   "metadata": {},
   "outputs": [
    {
     "name": "stdout",
     "output_type": "stream",
     "text": [
      "              precision    recall  f1-score   support\n",
      "\n",
      "           0       0.91      0.99      0.94      5117\n",
      "           1       0.65      0.20      0.30       650\n",
      "\n",
      "    accuracy                           0.90      5767\n",
      "   macro avg       0.78      0.59      0.62      5767\n",
      "weighted avg       0.88      0.90      0.87      5767\n",
      "\n"
     ]
    }
   ],
   "source": [
    "# Make Predictions\n",
    "svm_predictions = svm_model.predict(X_test)\n",
    "\n",
    "# Evaluate Prediction\n",
    "svm_report = Classification_Report(y_test, svm_predictions)\n",
    "print(svm_report)"
   ]
  },
  {
   "cell_type": "code",
   "execution_count": 34,
   "id": "dc4df85c-efa3-4423-acdc-b84bc5529a53",
   "metadata": {},
   "outputs": [
    {
     "data": {
      "image/png": "[encoded data removed]",
      "text/plain": [
       "<Figure size 504x360 with 1 Axes>"
      ]
     },
     "metadata": {
      "needs_background": "light"
     },
     "output_type": "display_data"
    }
   ],
   "source": [
    "# Use Confusion Matrix For Model Evaluation\n",
    "ConfusionMatrix(y_test, svm_predictions, label = ['Not Subscribed', 'Subscribed'])"
   ]
  },
  {
   "cell_type": "markdown",
   "id": "aae28d28-67e6-4ca9-bb8f-099aae9a2130",
   "metadata": {},
   "source": [
    "# K-Nearest Neighbor"
   ]
  },
  {
   "cell_type": "code",
   "execution_count": 35,
   "id": "54e7adf5-60de-4543-b0c0-8992bafed208",
   "metadata": {},
   "outputs": [
    {
     "name": "stdout",
     "output_type": "stream",
     "text": [
      "KNeighborsClassifier()\n"
     ]
    }
   ],
   "source": [
    "# Import Library\n",
    "from sklearn.neighbors import KNeighborsClassifier\n",
    "\n",
    "# Create KNN algorithm\n",
    "knn = KNeighborsClassifier()\n",
    "\n",
    "# Create KNN Model\n",
    "knn_model = knn.fit(X_train, y_train)\n",
    "print(knn_model)"
   ]
  },
  {
   "cell_type": "code",
   "execution_count": 36,
   "id": "0c2eaad8-00f6-4456-92b0-ad5f282aef6a",
   "metadata": {},
   "outputs": [
    {
     "name": "stdout",
     "output_type": "stream",
     "text": [
      "              precision    recall  f1-score   support\n",
      "\n",
      "           0       0.94      0.96      0.95      5117\n",
      "           1       0.60      0.51      0.55       650\n",
      "\n",
      "    accuracy                           0.91      5767\n",
      "   macro avg       0.77      0.73      0.75      5767\n",
      "weighted avg       0.90      0.91      0.90      5767\n",
      "\n"
     ]
    }
   ],
   "source": [
    "# Make Predictions\n",
    "knn_predictions = knn_model.predict(X_test)\n",
    "\n",
    "# Evaluate Predictions\n",
    "knn_report = Classification_Report(y_test, knn_predictions)\n",
    "print(knn_report)"
   ]
  },
  {
   "cell_type": "code",
   "execution_count": 37,
   "id": "c6724a3e-be61-4b8c-b21b-8d0cfb380448",
   "metadata": {},
   "outputs": [
    {
     "data": {
      "image/png": "[encoded data removed]",
      "text/plain": [
       "<Figure size 504x360 with 1 Axes>"
      ]
     },
     "metadata": {
      "needs_background": "light"
     },
     "output_type": "display_data"
    }
   ],
   "source": [
    "# Use Confusion Matrix For Model Evaluation\n",
    "ConfusionMatrix(y_test, knn_predictions, label = ['Not Subscribed', 'Subscribed'])"
   ]
  },
  {
   "cell_type": "markdown",
   "id": "4e734ebe-32c4-4b4f-a861-f396db6cd889",
   "metadata": {},
   "source": [
    "# Decision Tree"
   ]
  },
  {
   "cell_type": "code",
   "execution_count": 38,
   "id": "97d5dd09-e1a1-4c90-8fc9-d313e675552a",
   "metadata": {},
   "outputs": [
    {
     "name": "stdout",
     "output_type": "stream",
     "text": [
      "DecisionTreeClassifier()\n"
     ]
    }
   ],
   "source": [
    "# Import Library\n",
    "from sklearn.tree import DecisionTreeClassifier\n",
    "\n",
    "# Create Classifier\n",
    "Tree = DecisionTreeClassifier()\n",
    "\n",
    "# Create Decision Tree Model\n",
    "Tree_model = Tree.fit(X_train, y_train)\n",
    "print(Tree_model)"
   ]
  },
  {
   "cell_type": "code",
   "execution_count": 39,
   "id": "7f19d081-dfb7-4afe-9c4c-d5aa2aac155f",
   "metadata": {},
   "outputs": [
    {
     "name": "stdout",
     "output_type": "stream",
     "text": [
      "              precision    recall  f1-score   support\n",
      "\n",
      "           0       0.94      0.94      0.94      5117\n",
      "           1       0.52      0.52      0.52       650\n",
      "\n",
      "    accuracy                           0.89      5767\n",
      "   macro avg       0.73      0.73      0.73      5767\n",
      "weighted avg       0.89      0.89      0.89      5767\n",
      "\n"
     ]
    }
   ],
   "source": [
    "# Make Predictions\n",
    "Tree_predictions = Tree_model.predict(X_test)\n",
    "\n",
    "# Evaluate Predictions\n",
    "Tree_report = Classification_Report(y_test, Tree_predictions)\n",
    "print(Tree_report)"
   ]
  },
  {
   "cell_type": "code",
   "execution_count": 40,
   "id": "155ff263-2b63-4c82-a830-9dde53a0dfde",
   "metadata": {},
   "outputs": [
    {
     "data": {
      "image/png": "[encoded data removed]",
      "text/plain": [
       "<Figure size 504x360 with 1 Axes>"
      ]
     },
     "metadata": {
      "needs_background": "light"
     },
     "output_type": "display_data"
    }
   ],
   "source": [
    "# Use Confusion Matrix For Model Evaluation\n",
    "ConfusionMatrix(y_test, Tree_predictions, label = ['Not Subscribed', 'Subscribed'])"
   ]
  },
  {
   "cell_type": "markdown",
   "id": "47bc384b-f911-446d-9496-b8012ea35cae",
   "metadata": {},
   "source": [
    "# Gradient Boost Classifier"
   ]
  },
  {
   "cell_type": "code",
   "execution_count": 41,
   "id": "ce03e2ab-ad98-4d46-88ab-539bd7e6cec7",
   "metadata": {},
   "outputs": [
    {
     "name": "stdout",
     "output_type": "stream",
     "text": [
      "GradientBoostingClassifier()\n"
     ]
    }
   ],
   "source": [
    "# Import Libraries\n",
    "from sklearn.ensemble import GradientBoostingClassifier\n",
    "\n",
    "# Create Classifier\n",
    "GB_classifier = GradientBoostingClassifier()\n",
    "\n",
    "# Create Gradient Boost Model\n",
    "GB_model = GB_classifier.fit(X_train, y_train)\n",
    "print(GB_model)"
   ]
  },
  {
   "cell_type": "code",
   "execution_count": 42,
   "id": "f3dbe0a7-9c0e-4cc7-9fcc-7da31752787f",
   "metadata": {},
   "outputs": [
    {
     "name": "stdout",
     "output_type": "stream",
     "text": [
      "              precision    recall  f1-score   support\n",
      "\n",
      "           0       0.94      0.97      0.95      5117\n",
      "           1       0.66      0.53      0.59       650\n",
      "\n",
      "    accuracy                           0.92      5767\n",
      "   macro avg       0.80      0.75      0.77      5767\n",
      "weighted avg       0.91      0.92      0.91      5767\n",
      "\n"
     ]
    }
   ],
   "source": [
    "# Make predictions\n",
    "GB_predictions = GB_model.predict(X_test)\n",
    "\n",
    "# Evaluate Predictions\n",
    "GB_report = Classification_Report(y_test, GB_predictions)\n",
    "print(GB_report)"
   ]
  },
  {
   "cell_type": "code",
   "execution_count": 43,
   "id": "ec657750-dcde-4bc5-b745-ff034f4b648d",
   "metadata": {},
   "outputs": [
    {
     "data": {
      "image/png": "[encoded data removed]",
      "text/plain": [
       "<Figure size 504x360 with 1 Axes>"
      ]
     },
     "metadata": {
      "needs_background": "light"
     },
     "output_type": "display_data"
    }
   ],
   "source": [
    "# Use Confusion Matrix For Model Evaluation\n",
    "ConfusionMatrix(y_test, GB_predictions, label = ['Not Subscribed', 'Subscribed'])"
   ]
  },
  {
   "cell_type": "markdown",
   "id": "ca3ddf6a-5f26-481c-9f0a-7bb04d408265",
   "metadata": {},
   "source": [
    "Gradient Boost Algorithm is the best performing Model"
   ]
  },
  {
   "cell_type": "markdown",
   "id": "c57fd62a-d119-472a-8c3e-61153c8c2006",
   "metadata": {},
   "source": [
    "# XG Boost"
   ]
  },
  {
   "cell_type": "code",
   "execution_count": 44,
   "id": "dd49287d-ddde-4aad-ba20-1192d2a1e1d4",
   "metadata": {},
   "outputs": [
    {
     "name": "stderr",
     "output_type": "stream",
     "text": [
      "C:\\ProgramData\\Anaconda3\\lib\\site-packages\\xgboost\\data.py:250: FutureWarning: pandas.Int64Index is deprecated and will be removed from pandas in a future version. Use pandas.Index with the appropriate dtype instead.\n",
      "  elif isinstance(data.columns, (pd.Int64Index, pd.RangeIndex)):\n"
     ]
    },
    {
     "name": "stdout",
     "output_type": "stream",
     "text": [
      "[17:43:17] WARNING: ..\\src\\learner.cc:1115: Starting in XGBoost 1.3.0, the default evaluation metric used with the objective 'binary:logistic' was changed from 'error' to 'logloss'. Explicitly set eval_metric if you'd like to restore the old behavior.\n",
      "XGBClassifier(base_score=0.5, booster='gbtree', colsample_bylevel=1,\n",
      "              colsample_bynode=1, colsample_bytree=1, enable_categorical=False,\n",
      "              gamma=0, gpu_id=-1, importance_type=None,\n",
      "              interaction_constraints='', learning_rate=0.300000012,\n",
      "              max_delta_step=0, max_depth=6, min_child_weight=1, missing=nan,\n",
      "              monotone_constraints='()', n_estimators=100, n_jobs=8,\n",
      "              num_parallel_tree=1, predictor='auto', random_state=0,\n",
      "              reg_alpha=0, reg_lambda=1, scale_pos_weight=1, subsample=1,\n",
      "              tree_method='exact', use_label_encoder=False,\n",
      "              validate_parameters=1, verbosity=None)\n"
     ]
    }
   ],
   "source": [
    "# Import Libraries\n",
    "from xgboost import XGBClassifier\n",
    "\n",
    "# Create Classifier\n",
    "xg_boost = XGBClassifier(use_label_encoder=False)\n",
    "\n",
    "# Create Gradient Boost Model\n",
    "XG_model = xg_boost.fit(X_train, y_train)\n",
    "print(XG_model)"
   ]
  },
  {
   "cell_type": "code",
   "execution_count": 45,
   "id": "3aa76759-0ad7-4119-bf99-21dcbfae9a78",
   "metadata": {},
   "outputs": [
    {
     "name": "stdout",
     "output_type": "stream",
     "text": [
      "              precision    recall  f1-score   support\n",
      "\n",
      "           0       0.94      0.96      0.95      5117\n",
      "           1       0.64      0.54      0.59       650\n",
      "\n",
      "    accuracy                           0.91      5767\n",
      "   macro avg       0.79      0.75      0.77      5767\n",
      "weighted avg       0.91      0.91      0.91      5767\n",
      "\n"
     ]
    }
   ],
   "source": [
    "# Make predictions\n",
    "XG_predictions = xg_boost.predict(X_test)\n",
    "\n",
    "# Evaluate Predictions\n",
    "XG_report = Classification_Report(y_test, XG_predictions)\n",
    "print(XG_report)"
   ]
  },
  {
   "cell_type": "code",
   "execution_count": null,
   "id": "ec657750-dcde-4bc5-b745-ff034f4b648d",
   "metadata": {},
   "outputs": [],
   "source": [
    "# Use Confusion Matrix For Model Evaluation\n",
    "ConfusionMatrix(y_test, XG_predictions, label = ['Not Subscribed', 'Subscribed'])"
   ]
  },
  {
   "cell_type": "markdown",
   "id": "8b1fd563",
   "metadata": {},
   "source": [
    "# Ensembling"
   ]
  },
  {
   "cell_type": "code",
   "execution_count": null,
   "id": "e325bc42",
   "metadata": {},
   "outputs": [],
   "source": [
    "from sklearn.ensemble import VotingClassifier\n",
    "\n",
    "# Models to use for ensembling\n",
    "model1 = XGBClassifier(use_label_encoder=False)\n",
    "model2 = GradientBoostingClassifier()\n",
    "\n",
    "#fitting the model\n",
    "ensemble_model = VotingClassifier(estimators=[('XG', model1), ('GB', model2)], voting='soft')\n",
    "ensemble_model.fit(X_train,y_train)"
   ]
  },
  {
   "cell_type": "code",
   "execution_count": null,
   "id": "120d5bfd",
   "metadata": {},
   "outputs": [],
   "source": [
    "# Make predictions\n",
    "ensemble_predictions = ensemble_model.predict(X_test)\n",
    "\n",
    "# Evaluate Predictions\n",
    "ensemble_report = Classification_Report(y_test, ensemble_predictions)\n",
    "print(ensemble_report)"
   ]
  },
  {
   "cell_type": "code",
   "execution_count": null,
   "id": "8737a19c",
   "metadata": {},
   "outputs": [],
   "source": [
    "# Use Confusion Matrix For Model Evaluation\n",
    "ConfusionMatrix(y_test, ensemble_predictions, label = ['Not Subscribed', 'Subscribed'])"
   ]
  },
  {
   "cell_type": "markdown",
   "id": "adef8332",
   "metadata": {},
   "source": [
    "# Save The Model"
   ]
  },
  {
   "cell_type": "code",
   "execution_count": 46,
   "id": "cc8440b2",
   "metadata": {},
   "outputs": [],
   "source": [
    "import pickle"
   ]
  },
  {
   "cell_type": "code",
   "execution_count": 47,
   "id": "b6f8e0cd",
   "metadata": {},
   "outputs": [],
   "source": [
    "saved_model = {\"model\": GB_model, \"marital_encoder\": marital_encoder, \"education_encoder\": education_encoder, \"default_encoder\": default_encoder, \"loan_encoder\": loan_encoder,\n",
    "               \"housing_encoder\": housing_encoder , \"contact_encoder\": contact_encoder, \"month_encoder\": month_encoder, 'day_of_week_encoder': day_of_week_encoder, 'poutcome_encoder': poutcome_encoder}\n",
    "\n",
    "with open('Gradient_Boost_Model.pkl', 'wb') as file:\n",
    "    pickle.dump(saved_model,file)"
   ]
  },
  {
   "cell_type": "markdown",
   "id": "3dcd423d",
   "metadata": {},
   "source": [
    "# Load and Test the Model"
   ]
  },
  {
   "cell_type": "code",
   "execution_count": 48,
   "id": "b426f383",
   "metadata": {},
   "outputs": [],
   "source": [
    "# Load the model\n",
    "with open('Gradient_Boost_Model.pkl', 'rb') as file:\n",
    "    saved_model = pickle.load(file)\n",
    "    \n",
    "model = saved_model[\"model\"]\n",
    "\n",
    "marital_encode = saved_model[\"marital_encoder\"]\n",
    "education_encode = saved_model[\"education_encoder\"]\n",
    "default_encode = saved_model[\"default_encoder\"]\n",
    "loan_encode = saved_model[\"loan_encoder\"]\n",
    "housing_encode = saved_model[\"housing_encoder\"]\n",
    "contact_encode = saved_model[\"contact_encoder\"]\n",
    "month_encode = saved_model[\"month_encoder\"]\n",
    "day_of_week_encode = saved_model[\"day_of_week_encoder\"]\n",
    "poutcome_encode = saved_model[\"poutcome_encoder\"]\n"
   ]
  },
  {
   "cell_type": "markdown",
   "id": "3d890497-6565-4830-be1b-989cc2824a45",
   "metadata": {},
   "source": [
    "# Predicting The Test Data"
   ]
  },
  {
   "cell_type": "code",
   "execution_count": 49,
   "id": "4490bb3a-1a18-4561-812f-14559fcbffe5",
   "metadata": {},
   "outputs": [
    {
     "data": {
      "text/html": [
       "<div>\n",
       "<style scoped>\n",
       "    .dataframe tbody tr th:only-of-type {\n",
       "        vertical-align: middle;\n",
       "    }\n",
       "\n",
       "    .dataframe tbody tr th {\n",
       "        vertical-align: top;\n",
       "    }\n",
       "\n",
       "    .dataframe thead th {\n",
       "        text-align: right;\n",
       "    }\n",
       "</style>\n",
       "<table border=\"1\" class=\"dataframe\">\n",
       "  <thead>\n",
       "    <tr style=\"text-align: right;\">\n",
       "      <th></th>\n",
       "      <th>customer_id</th>\n",
       "      <th>age</th>\n",
       "      <th>job</th>\n",
       "      <th>marital</th>\n",
       "      <th>education</th>\n",
       "      <th>default</th>\n",
       "      <th>housing</th>\n",
       "      <th>loan</th>\n",
       "      <th>contact</th>\n",
       "      <th>month</th>\n",
       "      <th>...</th>\n",
       "      <th>duration</th>\n",
       "      <th>campaign</th>\n",
       "      <th>pdays</th>\n",
       "      <th>previous</th>\n",
       "      <th>poutcome</th>\n",
       "      <th>emp_var_rate</th>\n",
       "      <th>cons_price_idx</th>\n",
       "      <th>cons_conf_idx</th>\n",
       "      <th>euribor3m</th>\n",
       "      <th>nr_employed</th>\n",
       "    </tr>\n",
       "  </thead>\n",
       "  <tbody>\n",
       "    <tr>\n",
       "      <th>0</th>\n",
       "      <td>customer_id_32884</td>\n",
       "      <td>59</td>\n",
       "      <td>technician</td>\n",
       "      <td>married</td>\n",
       "      <td>high.school</td>\n",
       "      <td>no</td>\n",
       "      <td>no</td>\n",
       "      <td>yes</td>\n",
       "      <td>cellular</td>\n",
       "      <td>may</td>\n",
       "      <td>...</td>\n",
       "      <td>6.183333</td>\n",
       "      <td>1</td>\n",
       "      <td>999</td>\n",
       "      <td>1</td>\n",
       "      <td>failure</td>\n",
       "      <td>-1.77</td>\n",
       "      <td>46.4465</td>\n",
       "      <td>-32.34</td>\n",
       "      <td>2.301</td>\n",
       "      <td>5099.1</td>\n",
       "    </tr>\n",
       "    <tr>\n",
       "      <th>1</th>\n",
       "      <td>customer_id_3169</td>\n",
       "      <td>57</td>\n",
       "      <td>unknown</td>\n",
       "      <td>married</td>\n",
       "      <td>unknown</td>\n",
       "      <td>unknown</td>\n",
       "      <td>yes</td>\n",
       "      <td>no</td>\n",
       "      <td>telephone</td>\n",
       "      <td>may</td>\n",
       "      <td>...</td>\n",
       "      <td>4.750000</td>\n",
       "      <td>2</td>\n",
       "      <td>999</td>\n",
       "      <td>0</td>\n",
       "      <td>nonexistent</td>\n",
       "      <td>1.13</td>\n",
       "      <td>46.9970</td>\n",
       "      <td>-25.48</td>\n",
       "      <td>5.862</td>\n",
       "      <td>5191.0</td>\n",
       "    </tr>\n",
       "    <tr>\n",
       "      <th>2</th>\n",
       "      <td>customer_id_32206</td>\n",
       "      <td>35</td>\n",
       "      <td>blue-collar</td>\n",
       "      <td>married</td>\n",
       "      <td>basic.9y</td>\n",
       "      <td>no</td>\n",
       "      <td>no</td>\n",
       "      <td>no</td>\n",
       "      <td>cellular</td>\n",
       "      <td>may</td>\n",
       "      <td>...</td>\n",
       "      <td>0.866667</td>\n",
       "      <td>1</td>\n",
       "      <td>999</td>\n",
       "      <td>1</td>\n",
       "      <td>failure</td>\n",
       "      <td>-1.77</td>\n",
       "      <td>46.4465</td>\n",
       "      <td>-32.34</td>\n",
       "      <td>2.315</td>\n",
       "      <td>5099.1</td>\n",
       "    </tr>\n",
       "    <tr>\n",
       "      <th>3</th>\n",
       "      <td>customer_id_9403</td>\n",
       "      <td>38</td>\n",
       "      <td>admin.</td>\n",
       "      <td>married</td>\n",
       "      <td>high.school</td>\n",
       "      <td>no</td>\n",
       "      <td>no</td>\n",
       "      <td>no</td>\n",
       "      <td>telephone</td>\n",
       "      <td>jun</td>\n",
       "      <td>...</td>\n",
       "      <td>5.916667</td>\n",
       "      <td>4</td>\n",
       "      <td>999</td>\n",
       "      <td>0</td>\n",
       "      <td>nonexistent</td>\n",
       "      <td>1.43</td>\n",
       "      <td>47.2325</td>\n",
       "      <td>-29.26</td>\n",
       "      <td>5.969</td>\n",
       "      <td>5228.1</td>\n",
       "    </tr>\n",
       "    <tr>\n",
       "      <th>4</th>\n",
       "      <td>customer_id_14020</td>\n",
       "      <td>29</td>\n",
       "      <td>housemaid</td>\n",
       "      <td>married</td>\n",
       "      <td>high.school</td>\n",
       "      <td>no</td>\n",
       "      <td>yes</td>\n",
       "      <td>no</td>\n",
       "      <td>cellular</td>\n",
       "      <td>jul</td>\n",
       "      <td>...</td>\n",
       "      <td>3.150000</td>\n",
       "      <td>2</td>\n",
       "      <td>999</td>\n",
       "      <td>0</td>\n",
       "      <td>nonexistent</td>\n",
       "      <td>1.43</td>\n",
       "      <td>46.9590</td>\n",
       "      <td>-29.89</td>\n",
       "      <td>5.965</td>\n",
       "      <td>5228.1</td>\n",
       "    </tr>\n",
       "  </tbody>\n",
       "</table>\n",
       "<p>5 rows × 21 columns</p>\n",
       "</div>"
      ],
      "text/plain": [
       "         customer_id  age          job  marital    education  default housing  \\\n",
       "0  customer_id_32884   59   technician  married  high.school       no      no   \n",
       "1   customer_id_3169   57      unknown  married      unknown  unknown     yes   \n",
       "2  customer_id_32206   35  blue-collar  married     basic.9y       no      no   \n",
       "3   customer_id_9403   38       admin.  married  high.school       no      no   \n",
       "4  customer_id_14020   29    housemaid  married  high.school       no     yes   \n",
       "\n",
       "  loan    contact month  ...  duration  campaign  pdays  previous  \\\n",
       "0  yes   cellular   may  ...  6.183333         1    999         1   \n",
       "1   no  telephone   may  ...  4.750000         2    999         0   \n",
       "2   no   cellular   may  ...  0.866667         1    999         1   \n",
       "3   no  telephone   jun  ...  5.916667         4    999         0   \n",
       "4   no   cellular   jul  ...  3.150000         2    999         0   \n",
       "\n",
       "      poutcome emp_var_rate  cons_price_idx  cons_conf_idx  euribor3m  \\\n",
       "0      failure        -1.77         46.4465         -32.34      2.301   \n",
       "1  nonexistent         1.13         46.9970         -25.48      5.862   \n",
       "2      failure        -1.77         46.4465         -32.34      2.315   \n",
       "3  nonexistent         1.43         47.2325         -29.26      5.969   \n",
       "4  nonexistent         1.43         46.9590         -29.89      5.965   \n",
       "\n",
       "   nr_employed  \n",
       "0       5099.1  \n",
       "1       5191.0  \n",
       "2       5099.1  \n",
       "3       5228.1  \n",
       "4       5228.1  \n",
       "\n",
       "[5 rows x 21 columns]"
      ]
     },
     "execution_count": 49,
     "metadata": {},
     "output_type": "execute_result"
    }
   ],
   "source": [
    "# Load data\n",
    "dataset = pd.read_csv('test.csv')\n",
    "dataset.head()"
   ]
  },
  {
   "cell_type": "code",
   "execution_count": 50,
   "id": "aa346111-3e53-4463-b6f9-443980ca9dff",
   "metadata": {},
   "outputs": [
    {
     "data": {
      "text/html": [
       "<div>\n",
       "<style scoped>\n",
       "    .dataframe tbody tr th:only-of-type {\n",
       "        vertical-align: middle;\n",
       "    }\n",
       "\n",
       "    .dataframe tbody tr th {\n",
       "        vertical-align: top;\n",
       "    }\n",
       "\n",
       "    .dataframe thead th {\n",
       "        text-align: right;\n",
       "    }\n",
       "</style>\n",
       "<table border=\"1\" class=\"dataframe\">\n",
       "  <thead>\n",
       "    <tr style=\"text-align: right;\">\n",
       "      <th></th>\n",
       "      <th>campaign</th>\n",
       "      <th>cons_conf_idx</th>\n",
       "      <th>cons_price_idx</th>\n",
       "      <th>contact</th>\n",
       "      <th>day_of_week</th>\n",
       "      <th>default</th>\n",
       "      <th>duration</th>\n",
       "      <th>education</th>\n",
       "      <th>emp_var_rate</th>\n",
       "      <th>euribor3m</th>\n",
       "      <th>housing</th>\n",
       "      <th>loan</th>\n",
       "      <th>marital</th>\n",
       "      <th>month</th>\n",
       "      <th>nr_employed</th>\n",
       "      <th>pdays</th>\n",
       "      <th>poutcome</th>\n",
       "      <th>previous</th>\n",
       "    </tr>\n",
       "  </thead>\n",
       "  <tbody>\n",
       "    <tr>\n",
       "      <th>0</th>\n",
       "      <td>1</td>\n",
       "      <td>-32.34</td>\n",
       "      <td>46.4465</td>\n",
       "      <td>cellular</td>\n",
       "      <td>mon</td>\n",
       "      <td>no</td>\n",
       "      <td>6.183333</td>\n",
       "      <td>high.school</td>\n",
       "      <td>-1.77</td>\n",
       "      <td>2.301</td>\n",
       "      <td>no</td>\n",
       "      <td>yes</td>\n",
       "      <td>married</td>\n",
       "      <td>may</td>\n",
       "      <td>5099.1</td>\n",
       "      <td>999</td>\n",
       "      <td>failure</td>\n",
       "      <td>1</td>\n",
       "    </tr>\n",
       "    <tr>\n",
       "      <th>1</th>\n",
       "      <td>2</td>\n",
       "      <td>-25.48</td>\n",
       "      <td>46.9970</td>\n",
       "      <td>telephone</td>\n",
       "      <td>thu</td>\n",
       "      <td>unknown</td>\n",
       "      <td>4.750000</td>\n",
       "      <td>unknown</td>\n",
       "      <td>1.13</td>\n",
       "      <td>5.862</td>\n",
       "      <td>yes</td>\n",
       "      <td>no</td>\n",
       "      <td>married</td>\n",
       "      <td>may</td>\n",
       "      <td>5191.0</td>\n",
       "      <td>999</td>\n",
       "      <td>nonexistent</td>\n",
       "      <td>0</td>\n",
       "    </tr>\n",
       "    <tr>\n",
       "      <th>2</th>\n",
       "      <td>1</td>\n",
       "      <td>-32.34</td>\n",
       "      <td>46.4465</td>\n",
       "      <td>cellular</td>\n",
       "      <td>fri</td>\n",
       "      <td>no</td>\n",
       "      <td>0.866667</td>\n",
       "      <td>basic.9y</td>\n",
       "      <td>-1.77</td>\n",
       "      <td>2.315</td>\n",
       "      <td>no</td>\n",
       "      <td>no</td>\n",
       "      <td>married</td>\n",
       "      <td>may</td>\n",
       "      <td>5099.1</td>\n",
       "      <td>999</td>\n",
       "      <td>failure</td>\n",
       "      <td>1</td>\n",
       "    </tr>\n",
       "    <tr>\n",
       "      <th>3</th>\n",
       "      <td>4</td>\n",
       "      <td>-29.26</td>\n",
       "      <td>47.2325</td>\n",
       "      <td>telephone</td>\n",
       "      <td>fri</td>\n",
       "      <td>no</td>\n",
       "      <td>5.916667</td>\n",
       "      <td>high.school</td>\n",
       "      <td>1.43</td>\n",
       "      <td>5.969</td>\n",
       "      <td>no</td>\n",
       "      <td>no</td>\n",
       "      <td>married</td>\n",
       "      <td>jun</td>\n",
       "      <td>5228.1</td>\n",
       "      <td>999</td>\n",
       "      <td>nonexistent</td>\n",
       "      <td>0</td>\n",
       "    </tr>\n",
       "    <tr>\n",
       "      <th>4</th>\n",
       "      <td>2</td>\n",
       "      <td>-29.89</td>\n",
       "      <td>46.9590</td>\n",
       "      <td>cellular</td>\n",
       "      <td>fri</td>\n",
       "      <td>no</td>\n",
       "      <td>3.150000</td>\n",
       "      <td>high.school</td>\n",
       "      <td>1.43</td>\n",
       "      <td>5.965</td>\n",
       "      <td>yes</td>\n",
       "      <td>no</td>\n",
       "      <td>married</td>\n",
       "      <td>jul</td>\n",
       "      <td>5228.1</td>\n",
       "      <td>999</td>\n",
       "      <td>nonexistent</td>\n",
       "      <td>0</td>\n",
       "    </tr>\n",
       "  </tbody>\n",
       "</table>\n",
       "</div>"
      ],
      "text/plain": [
       "   campaign  cons_conf_idx  cons_price_idx    contact day_of_week  default  \\\n",
       "0         1         -32.34         46.4465   cellular         mon       no   \n",
       "1         2         -25.48         46.9970  telephone         thu  unknown   \n",
       "2         1         -32.34         46.4465   cellular         fri       no   \n",
       "3         4         -29.26         47.2325  telephone         fri       no   \n",
       "4         2         -29.89         46.9590   cellular         fri       no   \n",
       "\n",
       "   duration    education  emp_var_rate  euribor3m housing loan  marital month  \\\n",
       "0  6.183333  high.school         -1.77      2.301      no  yes  married   may   \n",
       "1  4.750000      unknown          1.13      5.862     yes   no  married   may   \n",
       "2  0.866667     basic.9y         -1.77      2.315      no   no  married   may   \n",
       "3  5.916667  high.school          1.43      5.969      no   no  married   jun   \n",
       "4  3.150000  high.school          1.43      5.965     yes   no  married   jul   \n",
       "\n",
       "   nr_employed  pdays     poutcome  previous  \n",
       "0       5099.1    999      failure         1  \n",
       "1       5191.0    999  nonexistent         0  \n",
       "2       5099.1    999      failure         1  \n",
       "3       5228.1    999  nonexistent         0  \n",
       "4       5228.1    999  nonexistent         0  "
      ]
     },
     "execution_count": 50,
     "metadata": {},
     "output_type": "execute_result"
    }
   ],
   "source": [
    "dataset = dataset[['campaign', 'cons_conf_idx', 'cons_price_idx', 'contact', 'day_of_week', 'default', 'duration', 'education', 'emp_var_rate', 'euribor3m', 'housing', 'loan', 'marital',\n",
    "                    'month', 'nr_employed', 'pdays', 'poutcome', 'previous']]\n",
    "dataset.head()"
   ]
  },
  {
   "cell_type": "code",
   "execution_count": 51,
   "id": "28ce46fa",
   "metadata": {},
   "outputs": [],
   "source": [
    "dataset.contact = contact_encode.transform(dataset.contact)\n",
    "dataset.day_of_week = day_of_week_encode.transform(dataset.day_of_week)\n",
    "dataset.default = default_encode.transform(dataset.default)\n",
    "dataset.education = education_encode.transform(dataset.education)\n",
    "dataset.housing = housing_encode.transform(dataset.housing)\n",
    "dataset.loan = loan_encode.transform(dataset.loan)\n",
    "dataset.marital = marital_encode.transform(dataset.marital)\n",
    "dataset.month = month_encode.transform(dataset.month)\n",
    "dataset.poutcome = poutcome_encode.transform(dataset.poutcome)"
   ]
  },
  {
   "cell_type": "code",
   "execution_count": 52,
   "id": "21ef8ffe",
   "metadata": {},
   "outputs": [
    {
     "data": {
      "text/html": [
       "<div>\n",
       "<style scoped>\n",
       "    .dataframe tbody tr th:only-of-type {\n",
       "        vertical-align: middle;\n",
       "    }\n",
       "\n",
       "    .dataframe tbody tr th {\n",
       "        vertical-align: top;\n",
       "    }\n",
       "\n",
       "    .dataframe thead th {\n",
       "        text-align: right;\n",
       "    }\n",
       "</style>\n",
       "<table border=\"1\" class=\"dataframe\">\n",
       "  <thead>\n",
       "    <tr style=\"text-align: right;\">\n",
       "      <th></th>\n",
       "      <th>campaign</th>\n",
       "      <th>cons_conf_idx</th>\n",
       "      <th>cons_price_idx</th>\n",
       "      <th>contact</th>\n",
       "      <th>day_of_week</th>\n",
       "      <th>default</th>\n",
       "      <th>duration</th>\n",
       "      <th>education</th>\n",
       "      <th>emp_var_rate</th>\n",
       "      <th>euribor3m</th>\n",
       "      <th>housing</th>\n",
       "      <th>loan</th>\n",
       "      <th>marital</th>\n",
       "      <th>month</th>\n",
       "      <th>nr_employed</th>\n",
       "      <th>pdays</th>\n",
       "      <th>poutcome</th>\n",
       "      <th>previous</th>\n",
       "    </tr>\n",
       "  </thead>\n",
       "  <tbody>\n",
       "    <tr>\n",
       "      <th>0</th>\n",
       "      <td>1</td>\n",
       "      <td>-32.34</td>\n",
       "      <td>46.4465</td>\n",
       "      <td>0</td>\n",
       "      <td>1</td>\n",
       "      <td>0</td>\n",
       "      <td>6.183333</td>\n",
       "      <td>3</td>\n",
       "      <td>-1.77</td>\n",
       "      <td>2.301</td>\n",
       "      <td>0</td>\n",
       "      <td>2</td>\n",
       "      <td>1</td>\n",
       "      <td>6</td>\n",
       "      <td>5099.1</td>\n",
       "      <td>999</td>\n",
       "      <td>0</td>\n",
       "      <td>1</td>\n",
       "    </tr>\n",
       "    <tr>\n",
       "      <th>1</th>\n",
       "      <td>2</td>\n",
       "      <td>-25.48</td>\n",
       "      <td>46.9970</td>\n",
       "      <td>1</td>\n",
       "      <td>2</td>\n",
       "      <td>1</td>\n",
       "      <td>4.750000</td>\n",
       "      <td>7</td>\n",
       "      <td>1.13</td>\n",
       "      <td>5.862</td>\n",
       "      <td>2</td>\n",
       "      <td>0</td>\n",
       "      <td>1</td>\n",
       "      <td>6</td>\n",
       "      <td>5191.0</td>\n",
       "      <td>999</td>\n",
       "      <td>1</td>\n",
       "      <td>0</td>\n",
       "    </tr>\n",
       "    <tr>\n",
       "      <th>2</th>\n",
       "      <td>1</td>\n",
       "      <td>-32.34</td>\n",
       "      <td>46.4465</td>\n",
       "      <td>0</td>\n",
       "      <td>0</td>\n",
       "      <td>0</td>\n",
       "      <td>0.866667</td>\n",
       "      <td>2</td>\n",
       "      <td>-1.77</td>\n",
       "      <td>2.315</td>\n",
       "      <td>0</td>\n",
       "      <td>0</td>\n",
       "      <td>1</td>\n",
       "      <td>6</td>\n",
       "      <td>5099.1</td>\n",
       "      <td>999</td>\n",
       "      <td>0</td>\n",
       "      <td>1</td>\n",
       "    </tr>\n",
       "    <tr>\n",
       "      <th>3</th>\n",
       "      <td>4</td>\n",
       "      <td>-29.26</td>\n",
       "      <td>47.2325</td>\n",
       "      <td>1</td>\n",
       "      <td>0</td>\n",
       "      <td>0</td>\n",
       "      <td>5.916667</td>\n",
       "      <td>3</td>\n",
       "      <td>1.43</td>\n",
       "      <td>5.969</td>\n",
       "      <td>0</td>\n",
       "      <td>0</td>\n",
       "      <td>1</td>\n",
       "      <td>4</td>\n",
       "      <td>5228.1</td>\n",
       "      <td>999</td>\n",
       "      <td>1</td>\n",
       "      <td>0</td>\n",
       "    </tr>\n",
       "    <tr>\n",
       "      <th>4</th>\n",
       "      <td>2</td>\n",
       "      <td>-29.89</td>\n",
       "      <td>46.9590</td>\n",
       "      <td>0</td>\n",
       "      <td>0</td>\n",
       "      <td>0</td>\n",
       "      <td>3.150000</td>\n",
       "      <td>3</td>\n",
       "      <td>1.43</td>\n",
       "      <td>5.965</td>\n",
       "      <td>2</td>\n",
       "      <td>0</td>\n",
       "      <td>1</td>\n",
       "      <td>3</td>\n",
       "      <td>5228.1</td>\n",
       "      <td>999</td>\n",
       "      <td>1</td>\n",
       "      <td>0</td>\n",
       "    </tr>\n",
       "  </tbody>\n",
       "</table>\n",
       "</div>"
      ],
      "text/plain": [
       "   campaign  cons_conf_idx  cons_price_idx  contact  day_of_week  default  \\\n",
       "0         1         -32.34         46.4465        0            1        0   \n",
       "1         2         -25.48         46.9970        1            2        1   \n",
       "2         1         -32.34         46.4465        0            0        0   \n",
       "3         4         -29.26         47.2325        1            0        0   \n",
       "4         2         -29.89         46.9590        0            0        0   \n",
       "\n",
       "   duration  education  emp_var_rate  euribor3m  housing  loan  marital  \\\n",
       "0  6.183333          3         -1.77      2.301        0     2        1   \n",
       "1  4.750000          7          1.13      5.862        2     0        1   \n",
       "2  0.866667          2         -1.77      2.315        0     0        1   \n",
       "3  5.916667          3          1.43      5.969        0     0        1   \n",
       "4  3.150000          3          1.43      5.965        2     0        1   \n",
       "\n",
       "   month  nr_employed  pdays  poutcome  previous  \n",
       "0      6       5099.1    999         0         1  \n",
       "1      6       5191.0    999         1         0  \n",
       "2      6       5099.1    999         0         1  \n",
       "3      4       5228.1    999         1         0  \n",
       "4      3       5228.1    999         1         0  "
      ]
     },
     "execution_count": 52,
     "metadata": {},
     "output_type": "execute_result"
    }
   ],
   "source": [
    "dataset.head()"
   ]
  },
  {
   "cell_type": "code",
   "execution_count": 53,
   "id": "fcbbf71d-ce37-4f78-b5b6-a192ec54ccb2",
   "metadata": {},
   "outputs": [
    {
     "data": {
      "text/plain": [
       "array([0, 0, 0, ..., 0, 0, 0], dtype=int64)"
      ]
     },
     "execution_count": 53,
     "metadata": {},
     "output_type": "execute_result"
    }
   ],
   "source": [
    "prediction = model.predict(dataset)\n",
    "prediction"
   ]
  },
  {
   "cell_type": "code",
   "execution_count": null,
   "id": "f5827357",
   "metadata": {},
   "outputs": [],
   "source": [
    "data[correlated_features].describe()"
   ]
  },
  {
   "cell_type": "code",
   "execution_count": null,
   "id": "f79ddb02",
   "metadata": {},
   "outputs": [],
   "source": []
  }
 ],
 "metadata": {
  "kernelspec": {
   "display_name": "Python 3 (ipykernel)",
   "language": "python",
   "name": "python3"
  },
  "language_info": {
   "codemirror_mode": {
    "name": "ipython",
    "version": 3
   },
   "file_extension": ".py",
   "mimetype": "text/x-python",
   "name": "python",
   "nbconvert_exporter": "python",
   "pygments_lexer": "ipython3",
   "version": "3.9.7"
  }
 },
 "nbformat": 4,
 "nbformat_minor": 5
}
