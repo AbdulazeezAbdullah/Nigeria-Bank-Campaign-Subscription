{
 "cells": [
  {
   "cell_type": "markdown",
   "metadata": {},
   "source": [
    "# A DATA BASED SOLUTION ADDRESSING THE EDUCATIONAL SYSTEM IN NIGERIA"
   ]
  },
  {
   "cell_type": "markdown",
   "metadata": {},
   "source": [
    "# Predictive Modeling of Student Pass Rates in Exams and Contributing Factors Using Machine Learning\n",
    "\n",
    "In this notebook, we will undertake a comprehensive machine learning workflow aimed at predicting student performance rates in their exams based on historical data.\n",
    "\n",
    "## 1. Problem Definition\n",
    "\n",
    "A significant concern across the African continent has been the sub-par quality of elementary and secondary education, further highlighted by the recent shift to computer-based tests for students in senior secondary school (SSS3). In response, various civil society organizations (CSOs), governments, and other bodies have taken steps to improve the quality of education and, by extension, student performance.\n",
    "\n",
    "Recent statistics from JAMB (the Nigerian pre-tertiary examination governing body) indicate that 76% (approximately 4 out of 5) of students who participated in the 2024 UTME scored less than 200 (50%). This insight underscores the need for proactive solutions to this problem, which we aim to address in this notebook.\n",
    "\n",
    "## 2. Data Overview\n",
    "\n",
    "The data is sourced from a survey of over 200 students who took the JAMB exam between 2020 and 2024. Additionally, synthetic data was created based on the survey, research, and literature review, totaling 1,000 data points.\n",
    "\n",
    "## 3. Evaluation Metrics\n",
    "\n",
    "The performance of the predictive model will be assessed using key performance indicators such as:\n",
    "- **Root Mean Squared Error (RMSE)**\n",
    "- **R-squared (R²)**\n",
    "- **Mean Absolute Error (MAE)**\n",
    "\n",
    "## 4. Feature Description\n",
    "\n",
    "The features in the dataset include:\n",
    "\n",
    "| Feature                     | Description                                                                                       |\n",
    "|-----------------------------|---------------------------------------------------------------------------------------------------|\n",
    "| **student_name**            | The identifier for each student (names are not included to preserve anonymity).                   |\n",
    "| **exam**                    | Specifies the type of exam the student was preparing for. It could be JAMB, WAEC, or both exams.  |\n",
    "| **first_time**              | Indicates whether this is the student's first time writing the specified exam. The values are Yes or No. |\n",
    "| **prev_exam_result**        | Describes the outcome of the student's previous exam attempts, with options like Good, Bad, Average, or None if they haven’t taken it before. |\n",
    "| **challenges_faced**        | Highlights the difficulties the student encountered during their previous exam attempt. Examples include Technical issues, Anxiety, Lack of Finance, or None if they didn’t face any challenges. |\n",
    "| **prep_level**              | Indicates the student’s preparation level for their last exam, with values ranging from None to levels 1–5 indicating increasing degrees of preparation. |\n",
    "| **school_support**          | Describes how the student's school supported them in their previous exam preparation. Options include Extra lessons, Counseling, Mock exams, Strict supervision, and more. |\n",
    "| **teacher_impact**          | Indicates the perceived effectiveness of teachers during the student’s preparation for the last exam. Values could be None, Positive, Negative, or Positive & Negative. |\n",
    "| **fail_reason**             | Lists the reason why the student believes they failed or didn't do as well as they'd have liked in the exam, such as Lack of planning, Inadequate preparation, or Procrastination. |\n",
    "| **prep_strategy**           | Specifies the student’s preparation strategy for their upcoming exam. Strategies may include I study with a partner, I focus on weak areas, I practice with past questions, etc. |\n",
    "| **subject_failed**          | Indicates which subjects the student failed or had their lowest score, if any. Examples include Maths, English, Physics, etc., or None if they didn’t fail any subject. |\n",
    "| **student_category**        | The category of subjects the student is focusing on, such as Commercial, Art, or Science.         |\n",
    "| **subjects_taken**          | The subjects the student is currently taking. This is a list of up to 4 subjects, which includes a mandatory subject like English and category-specific subjects. |\n",
    "| **income_bracket**          | Represents the student’s average monthly household income bracket, expressed in thousands of Nigerian Naira (₦). For example, 0–100 means the household earns between ₦0 and ₦100,000 per month. |\n",
    "| **year**                    | The year the student took the exam, spanning from 2020 to 2024.                                   |\n",
    "| **jamb_score**              | The student's score in the JAMB exam.                                                             |\n",
    "\n",
    "With this foundational understanding, let's proceed to import the datasets and begin our exploratory data analysis. Our initial objective will be to establish a baseline model, followed by iterative improvements.\n",
    "\n",
    "🚀 Let's get started!"
   ]
  },
  {
   "cell_type": "code",
   "execution_count": 36,
   "metadata": {},
   "outputs": [],
   "source": [
    "# Import necessary libraries\n",
    "import numpy as np\n",
    "import pandas as pd\n",
    "import matplotlib.pyplot as plt"
   ]
  },
  {
   "cell_type": "code",
   "execution_count": 37,
   "metadata": {},
   "outputs": [
    {
     "name": "stdout",
     "output_type": "stream",
     "text": [
      "Requirement already satisfied: pymysql in c:\\users\\user\\anaconda3\\lib\\site-packages (1.1.1)\n",
      "Note: you may need to restart the kernel to use updated packages.\n"
     ]
    }
   ],
   "source": [
    "pip install pymysql"
   ]
  },
  {
   "cell_type": "code",
   "execution_count": 38,
   "metadata": {},
   "outputs": [
    {
     "name": "stdout",
     "output_type": "stream",
     "text": [
      "Requirement already satisfied: psycopg2 in c:\\users\\user\\anaconda3\\lib\\site-packages (2.9.9)\n",
      "Note: you may need to restart the kernel to use updated packages.\n"
     ]
    }
   ],
   "source": [
    "pip install psycopg2"
   ]
  },
  {
   "cell_type": "markdown",
   "metadata": {},
   "source": [
    "### Connect to the data warehouse"
   ]
  },
  {
   "cell_type": "code",
   "execution_count": 39,
   "metadata": {},
   "outputs": [
    {
     "name": "stderr",
     "output_type": "stream",
     "text": [
      "c:\\Users\\user\\anaconda3\\lib\\site-packages\\pandas\\io\\sql.py:761: UserWarning: pandas only support SQLAlchemy connectable(engine/connection) ordatabase string URI or sqlite3 DBAPI2 connectionother DBAPI2 objects are not tested, please consider using SQLAlchemy\n",
      "  warnings.warn(\n"
     ]
    },
    {
     "data": {
      "text/html": [
       "<div>\n",
       "<style scoped>\n",
       "    .dataframe tbody tr th:only-of-type {\n",
       "        vertical-align: middle;\n",
       "    }\n",
       "\n",
       "    .dataframe tbody tr th {\n",
       "        vertical-align: top;\n",
       "    }\n",
       "\n",
       "    .dataframe thead th {\n",
       "        text-align: right;\n",
       "    }\n",
       "</style>\n",
       "<table border=\"1\" class=\"dataframe\">\n",
       "  <thead>\n",
       "    <tr style=\"text-align: right;\">\n",
       "      <th></th>\n",
       "      <th>student_name</th>\n",
       "      <th>exam</th>\n",
       "      <th>first_time</th>\n",
       "      <th>prev_exam_result</th>\n",
       "      <th>challenges_faced</th>\n",
       "      <th>prep_level</th>\n",
       "      <th>school_support</th>\n",
       "      <th>teacher_impact</th>\n",
       "      <th>fail_reason</th>\n",
       "      <th>prep_strategy</th>\n",
       "      <th>subject_failed</th>\n",
       "      <th>student_category</th>\n",
       "      <th>subjects_taken</th>\n",
       "      <th>income_bracket</th>\n",
       "      <th>year</th>\n",
       "      <th>jamb_score</th>\n",
       "    </tr>\n",
       "  </thead>\n",
       "  <tbody>\n",
       "    <tr>\n",
       "      <th>0</th>\n",
       "      <td>Student_5</td>\n",
       "      <td>JAMB</td>\n",
       "      <td>Yes</td>\n",
       "      <td>Average</td>\n",
       "      <td>Fear</td>\n",
       "      <td>3</td>\n",
       "      <td>Accountability partners</td>\n",
       "      <td>Negative</td>\n",
       "      <td>External issues</td>\n",
       "      <td>I followed a routine</td>\n",
       "      <td>Biology</td>\n",
       "      <td>Science</td>\n",
       "      <td>['English' 'Maths' 'Biology' 'Chemistry']</td>\n",
       "      <td>0-100</td>\n",
       "      <td>2021</td>\n",
       "      <td>150</td>\n",
       "    </tr>\n",
       "    <tr>\n",
       "      <th>1</th>\n",
       "      <td>Student_6</td>\n",
       "      <td>JAMB</td>\n",
       "      <td>Yes</td>\n",
       "      <td>Bad</td>\n",
       "      <td>nan</td>\n",
       "      <td>3</td>\n",
       "      <td>nan</td>\n",
       "      <td>Negative</td>\n",
       "      <td>nan</td>\n",
       "      <td>I study with a partner</td>\n",
       "      <td>Accounting</td>\n",
       "      <td>Commercial</td>\n",
       "      <td>['English' 'Economics' 'Commerce' 'Accounting']</td>\n",
       "      <td>0-100</td>\n",
       "      <td>2024</td>\n",
       "      <td>209</td>\n",
       "    </tr>\n",
       "    <tr>\n",
       "      <th>2</th>\n",
       "      <td>Student_7</td>\n",
       "      <td>WAEC</td>\n",
       "      <td>Yes</td>\n",
       "      <td>nan</td>\n",
       "      <td>Lack of time due to chores/work</td>\n",
       "      <td>3</td>\n",
       "      <td>Mock exams</td>\n",
       "      <td>nan</td>\n",
       "      <td>Procrastination</td>\n",
       "      <td>I focus on weak areas</td>\n",
       "      <td>Commerce</td>\n",
       "      <td>Commercial</td>\n",
       "      <td>['English' 'Economics' 'Commerce' 'Accounting']</td>\n",
       "      <td>0-100</td>\n",
       "      <td>2021</td>\n",
       "      <td>213</td>\n",
       "    </tr>\n",
       "    <tr>\n",
       "      <th>3</th>\n",
       "      <td>Student_8</td>\n",
       "      <td>JAMB</td>\n",
       "      <td>Yes</td>\n",
       "      <td>Good</td>\n",
       "      <td>Time management</td>\n",
       "      <td>5</td>\n",
       "      <td>Extra lesson</td>\n",
       "      <td>Positive &amp; Negative</td>\n",
       "      <td>nan</td>\n",
       "      <td>I practice with past questions</td>\n",
       "      <td>Maths</td>\n",
       "      <td>Science</td>\n",
       "      <td>['English' 'Maths' 'Chemistry' 'Biology']</td>\n",
       "      <td>0-100</td>\n",
       "      <td>2023</td>\n",
       "      <td>168</td>\n",
       "    </tr>\n",
       "    <tr>\n",
       "      <th>4</th>\n",
       "      <td>Student_9</td>\n",
       "      <td>JAMB and WAEC</td>\n",
       "      <td>Yes</td>\n",
       "      <td>Bad</td>\n",
       "      <td>Lack of Finance</td>\n",
       "      <td>5</td>\n",
       "      <td>nan</td>\n",
       "      <td>nan</td>\n",
       "      <td>Procrastination</td>\n",
       "      <td>I focus on weak areas</td>\n",
       "      <td>Economics</td>\n",
       "      <td>Commercial</td>\n",
       "      <td>['English' 'Economics' 'Commerce' 'Accounting']</td>\n",
       "      <td>0-100</td>\n",
       "      <td>2022</td>\n",
       "      <td>203</td>\n",
       "    </tr>\n",
       "  </tbody>\n",
       "</table>\n",
       "</div>"
      ],
      "text/plain": [
       "  student_name           exam first_time prev_exam_result  \\\n",
       "0    Student_5           JAMB        Yes          Average   \n",
       "1    Student_6           JAMB        Yes              Bad   \n",
       "2    Student_7           WAEC        Yes              nan   \n",
       "3    Student_8           JAMB        Yes             Good   \n",
       "4    Student_9  JAMB and WAEC        Yes              Bad   \n",
       "\n",
       "                  challenges_faced prep_level           school_support  \\\n",
       "0                             Fear          3  Accountability partners   \n",
       "1                              nan          3                      nan   \n",
       "2  Lack of time due to chores/work          3               Mock exams   \n",
       "3                  Time management          5             Extra lesson   \n",
       "4                  Lack of Finance          5                      nan   \n",
       "\n",
       "        teacher_impact      fail_reason                   prep_strategy  \\\n",
       "0             Negative  External issues            I followed a routine   \n",
       "1             Negative              nan          I study with a partner   \n",
       "2                  nan  Procrastination           I focus on weak areas   \n",
       "3  Positive & Negative              nan  I practice with past questions   \n",
       "4                  nan  Procrastination           I focus on weak areas   \n",
       "\n",
       "  subject_failed student_category  \\\n",
       "0        Biology          Science   \n",
       "1     Accounting       Commercial   \n",
       "2       Commerce       Commercial   \n",
       "3          Maths          Science   \n",
       "4      Economics       Commercial   \n",
       "\n",
       "                                    subjects_taken income_bracket  year  \\\n",
       "0        ['English' 'Maths' 'Biology' 'Chemistry']          0-100  2021   \n",
       "1  ['English' 'Economics' 'Commerce' 'Accounting']          0-100  2024   \n",
       "2  ['English' 'Economics' 'Commerce' 'Accounting']          0-100  2021   \n",
       "3        ['English' 'Maths' 'Chemistry' 'Biology']          0-100  2023   \n",
       "4  ['English' 'Economics' 'Commerce' 'Accounting']          0-100  2022   \n",
       "\n",
       "   jamb_score  \n",
       "0         150  \n",
       "1         209  \n",
       "2         213  \n",
       "3         168  \n",
       "4         203  "
      ]
     },
     "execution_count": 39,
     "metadata": {},
     "output_type": "execute_result"
    }
   ],
   "source": [
    "# Connect to the PostgreSQL database\n",
    "connection = psycopg2.connect(\n",
    "    host='******************',  # Domain name\n",
    "    database='**********',\n",
    "    user='***********',\n",
    "    password='********',\n",
    "    port=*****  # Port number\n",
    ")\n",
    "\n",
    "# Write a query to select data from your table\n",
    "query = 'SELECT * FROM School_data'  \n",
    "\n",
    "# Use pandas to execute the query and store the result in a DataFrame\n",
    "df = pd.read_sql(query, connection)\n",
    "\n",
    "# Close the connection\n",
    "connection.close()\n",
    "\n",
    "# Display the first few rows of the DataFrame\n",
    "df.head()\n"
   ]
  },
  {
   "cell_type": "markdown",
   "metadata": {},
   "source": [
    "## 1. UNDERSTANDING THE DATA"
   ]
  },
  {
   "cell_type": "code",
   "execution_count": 40,
   "metadata": {},
   "outputs": [
    {
     "data": {
      "text/plain": [
       "(1000, 16)"
      ]
     },
     "execution_count": 40,
     "metadata": {},
     "output_type": "execute_result"
    }
   ],
   "source": [
    "# Examine the shape of the DataFrame\n",
    "df.shape"
   ]
  },
  {
   "cell_type": "markdown",
   "metadata": {},
   "source": [
    "Our data has 1000 records and 16 columns"
   ]
  },
  {
   "cell_type": "code",
   "execution_count": 41,
   "metadata": {},
   "outputs": [
    {
     "data": {
      "text/plain": [
       "Index(['student_name', 'exam', 'first_time', 'prev_exam_result',\n",
       "       'challenges_faced', 'prep_level', 'school_support', 'teacher_impact',\n",
       "       'fail_reason', 'prep_strategy', 'subject_failed', 'student_category',\n",
       "       'subjects_taken', 'income_bracket', 'year', 'jamb_score'],\n",
       "      dtype='object')"
      ]
     },
     "execution_count": 41,
     "metadata": {},
     "output_type": "execute_result"
    }
   ],
   "source": [
    "# Display the columns of the DataFrame\n",
    "df.columns"
   ]
  },
  {
   "cell_type": "code",
   "execution_count": 42,
   "metadata": {},
   "outputs": [],
   "source": [
    "# save the data to a csv file\n",
    "df.to_csv('school_data.csv', index=False)"
   ]
  },
  {
   "cell_type": "code",
   "execution_count": 43,
   "metadata": {},
   "outputs": [
    {
     "name": "stdout",
     "output_type": "stream",
     "text": [
      "<class 'pandas.core.frame.DataFrame'>\n",
      "RangeIndex: 1000 entries, 0 to 999\n",
      "Data columns (total 16 columns):\n",
      " #   Column            Non-Null Count  Dtype \n",
      "---  ------            --------------  ----- \n",
      " 0   student_name      1000 non-null   object\n",
      " 1   exam              1000 non-null   object\n",
      " 2   first_time        1000 non-null   object\n",
      " 3   prev_exam_result  1000 non-null   object\n",
      " 4   challenges_faced  1000 non-null   object\n",
      " 5   prep_level        1000 non-null   object\n",
      " 6   school_support    1000 non-null   object\n",
      " 7   teacher_impact    1000 non-null   object\n",
      " 8   fail_reason       1000 non-null   object\n",
      " 9   prep_strategy     1000 non-null   object\n",
      " 10  subject_failed    1000 non-null   object\n",
      " 11  student_category  1000 non-null   object\n",
      " 12  subjects_taken    1000 non-null   object\n",
      " 13  income_bracket    1000 non-null   object\n",
      " 14  year              1000 non-null   int64 \n",
      " 15  jamb_score        1000 non-null   int64 \n",
      "dtypes: int64(2), object(14)\n",
      "memory usage: 125.1+ KB\n"
     ]
    }
   ],
   "source": [
    "df.info()"
   ]
  },
  {
   "cell_type": "code",
   "execution_count": 44,
   "metadata": {},
   "outputs": [
    {
     "name": "stdout",
     "output_type": "stream",
     "text": [
      "             year   jamb_score\n",
      "count  1000.00000  1000.000000\n",
      "mean   2022.17700   228.129000\n",
      "std       1.32719    38.688101\n",
      "min    2020.00000   150.000000\n",
      "25%    2021.00000   201.000000\n",
      "50%    2022.00000   227.000000\n",
      "75%    2023.00000   255.000000\n",
      "max    2024.00000   320.000000\n"
     ]
    }
   ],
   "source": [
    "# Get basic statistics of the numeric columns\n",
    "print(df.describe())"
   ]
  },
  {
   "cell_type": "markdown",
   "metadata": {},
   "source": [
    "From here I can see the avergae Jamb score of the students is 228"
   ]
  },
  {
   "cell_type": "code",
   "execution_count": 45,
   "metadata": {},
   "outputs": [
    {
     "name": "stdout",
     "output_type": "stream",
     "text": [
      "student_name        0\n",
      "exam                0\n",
      "first_time          0\n",
      "prev_exam_result    0\n",
      "challenges_faced    0\n",
      "prep_level          0\n",
      "school_support      0\n",
      "teacher_impact      0\n",
      "fail_reason         0\n",
      "prep_strategy       0\n",
      "subject_failed      0\n",
      "student_category    0\n",
      "subjects_taken      0\n",
      "income_bracket      0\n",
      "year                0\n",
      "jamb_score          0\n",
      "dtype: int64\n"
     ]
    }
   ],
   "source": [
    "# Check for missing values\n",
    "print(df.isnull().sum())"
   ]
  },
  {
   "cell_type": "markdown",
   "metadata": {},
   "source": [
    "I have no missing values in the dataset"
   ]
  },
  {
   "cell_type": "code",
   "execution_count": 46,
   "metadata": {},
   "outputs": [
    {
     "name": "stdout",
     "output_type": "stream",
     "text": [
      "JAMB             387\n",
      "WAEC             316\n",
      "JAMB and WAEC    297\n",
      "Name: exam, dtype: int64\n",
      "Yes    632\n",
      "No     368\n",
      "Name: first_time, dtype: int64\n",
      "Bad        312\n",
      "Good       275\n",
      "Average    220\n",
      "nan        193\n",
      "Name: prev_exam_result, dtype: int64\n",
      "Time management                    208\n",
      "Fear                               172\n",
      "Long waiting time                  152\n",
      "Anxiety                            129\n",
      "nan                                 90\n",
      "Lack of Finance                     53\n",
      "Technical issues                    48\n",
      "No guardian/supervisor              45\n",
      "Subject difficulty                  44\n",
      "Other commitments                   36\n",
      "Lack of time due to chores/work     23\n",
      "Name: challenges_faced, dtype: int64\n",
      "3    257\n",
      "5    250\n",
      "4    239\n",
      "     117\n",
      "2     92\n",
      "1     45\n",
      "Name: prep_level, dtype: int64\n",
      "nan                        310\n",
      "Strict supervision         153\n",
      "Mock exams                 151\n",
      "Extra lesson               135\n",
      "Counseling                 101\n",
      "Moral Support               95\n",
      "Accountability partners     55\n",
      "Name: school_support, dtype: int64\n",
      "nan                    523\n",
      "Positive               184\n",
      "Negative               155\n",
      "Positive & Negative    138\n",
      "Name: teacher_impact, dtype: int64\n",
      "Inadequate preparation    255\n",
      "nan                       217\n",
      "Procrastination           197\n",
      "Poor Time management      149\n",
      "Lack of planning           95\n",
      "External issues            87\n",
      "Name: fail_reason, dtype: int64\n",
      "I followed a routine              207\n",
      "I review my notes daily           200\n",
      "I had many mock exams             150\n",
      "I attend extra classes            111\n",
      "I study with a partner             94\n",
      "I focus on weak areas              85\n",
      "Used additional resources          57\n",
      "I put away other commitments       51\n",
      "I practice with past questions     45\n",
      "Name: prep_strategy, dtype: int64\n",
      "Physics                  117\n",
      "Accounting               111\n",
      "Chemistry                 98\n",
      "Biology                   97\n",
      "Economics                 97\n",
      "Maths                     96\n",
      "Literature in English     92\n",
      "Commerce                  90\n",
      "History                   74\n",
      "Government                67\n",
      "CRS                       61\n",
      "Name: subject_failed, dtype: int64\n",
      "Science       408\n",
      "Commercial    298\n",
      "Art           294\n",
      "Name: student_category, dtype: int64\n",
      "0-100             309\n",
      "100-300           252\n",
      "300-500           183\n",
      "500-1,000         149\n",
      "1,000 Upwards     107\n",
      "Name: income_bracket, dtype: int64\n"
     ]
    }
   ],
   "source": [
    "categorical_columns = ['exam', 'first_time', 'prev_exam_result', 'challenges_faced', 'prep_level', 'school_support', 'teacher_impact', 'fail_reason', 'prep_strategy', 'subject_failed', 'student_category', 'income_bracket']\n",
    "\n",
    "for column in categorical_columns:\n",
    "    print(df[column].value_counts())"
   ]
  },
  {
   "cell_type": "markdown",
   "metadata": {},
   "source": [
    "### Visualization of Some Categorical variables"
   ]
  },
  {
   "cell_type": "code",
   "execution_count": 47,
   "metadata": {},
   "outputs": [
    {
     "data": {
      "text/plain": [
       "<AxesSubplot:title={'center':'Challenges Faced by Students'}>"
      ]
     },
     "execution_count": 47,
     "metadata": {},
     "output_type": "execute_result"
    },
    {
     "data": {
      "image/png": "[encoded data removed]",
      "text/plain": [
       "<Figure size 432x288 with 1 Axes>"
      ]
     },
     "metadata": {
      "needs_background": "light"
     },
     "output_type": "display_data"
    }
   ],
   "source": [
    "# Examine the distribution of the mentioned challenges faced by students\n",
    "df['challenges_faced'].value_counts().plot(kind='bar', title='Challenges Faced by Students')"
   ]
  },
  {
   "cell_type": "code",
   "execution_count": 48,
   "metadata": {},
   "outputs": [
    {
     "data": {
      "text/plain": [
       "<AxesSubplot:title={'center':'Reasons for Failing Exams'}>"
      ]
     },
     "execution_count": 48,
     "metadata": {},
     "output_type": "execute_result"
    },
    {
     "data": {
      "image/png": "[encoded data removed]",
      "text/plain": [
       "<Figure size 432x288 with 1 Axes>"
      ]
     },
     "metadata": {
      "needs_background": "light"
     },
     "output_type": "display_data"
    }
   ],
   "source": [
    "# Examine the distribution of the mentioned reasons for failing exams\n",
    "df['fail_reason'].value_counts().plot(kind='bar', title='Reasons for Failing Exams')"
   ]
  },
  {
   "cell_type": "code",
   "execution_count": 49,
   "metadata": {},
   "outputs": [
    {
     "data": {
      "text/plain": [
       "<AxesSubplot:title={'center':'Subjects Failed by Students'}>"
      ]
     },
     "execution_count": 49,
     "metadata": {},
     "output_type": "execute_result"
    },
    {
     "data": {
      "image/png": "[encoded data removed]",
      "text/plain": [
       "<Figure size 432x288 with 1 Axes>"
      ]
     },
     "metadata": {
      "needs_background": "light"
     },
     "output_type": "display_data"
    }
   ],
   "source": [
    "# examine the distrubution of subjects failed by students\n",
    "df['subject_failed'].value_counts().plot(kind='bar', title='Subjects Failed by Students')\n"
   ]
  },
  {
   "cell_type": "code",
   "execution_count": 50,
   "metadata": {},
   "outputs": [
    {
     "data": {
      "text/plain": [
       "<AxesSubplot:title={'center':'Student Categories'}>"
      ]
     },
     "execution_count": 50,
     "metadata": {},
     "output_type": "execute_result"
    },
    {
     "data": {
      "image/png": "[encoded data removed]",
      "text/plain": [
       "<Figure size 432x288 with 1 Axes>"
      ]
     },
     "metadata": {
      "needs_background": "light"
     },
     "output_type": "display_data"
    }
   ],
   "source": [
    "# Examine the distribution of the student categories\n",
    "df['student_category'].value_counts().plot(kind='bar', title='Student Categories')"
   ]
  },
  {
   "cell_type": "code",
   "execution_count": 51,
   "metadata": {},
   "outputs": [
    {
     "data": {
      "text/plain": [
       "<AxesSubplot:title={'center':'Income Brackets in 000s of Naira'}>"
      ]
     },
     "execution_count": 51,
     "metadata": {},
     "output_type": "execute_result"
    },
    {
     "data": {
      "image/png": "[encoded data removed]",
      "text/plain": [
       "<Figure size 432x288 with 1 Axes>"
      ]
     },
     "metadata": {
      "needs_background": "light"
     },
     "output_type": "display_data"
    }
   ],
   "source": [
    "# Examining the distribution of the income brackets in '000s of Naira\n",
    "df['income_bracket'].value_counts().plot(kind='bar', title='Income Brackets in 000s of Naira')\n"
   ]
  },
  {
   "cell_type": "markdown",
   "metadata": {},
   "source": [
    "## 2. EXPLORATORY DATA ANALYSIS(EDA)\n",
    "\n",
    "By conducting these group comparisons, i'll try to identify key trends, correlations, and insights, such as:\n",
    "\n",
    "* Which student categories perform best on average.\n",
    "* How different preparation strategies or challenges influence performance.\n",
    "* The impact of socioeconomic factors like household income on exam outcomes."
   ]
  },
  {
   "cell_type": "markdown",
   "metadata": {},
   "source": [
    "### I. Group Comparison: JAMB Scores by Student Category\n",
    "This comparison checks how jamb_score differs across the different student categories (e.g., Commercial, Art, Science).\n"
   ]
  },
  {
   "cell_type": "code",
   "execution_count": 56,
   "metadata": {},
   "outputs": [
    {
     "data": {
      "image/png": "[encoded data removed]",
      "text/plain": [
       "<Figure size 432x288 with 1 Axes>"
      ]
     },
     "metadata": {
      "needs_background": "light"
     },
     "output_type": "display_data"
    }
   ],
   "source": [
    "# Group Comparison\n",
    "mean_scores = df.groupby('student_category')['jamb_score'].mean()\n",
    "mean_scores.plot(kind='bar')\n",
    "plt.title('Average JAMB Scores by Student Category')\n",
    "plt.ylabel('Average JAMB Score')\n",
    "plt.show()\n",
    "\n"
   ]
  },
  {
   "cell_type": "markdown",
   "metadata": {},
   "source": [
    "The figure above shows that Science students are the best performing in the exams just by a little margin"
   ]
  },
  {
   "cell_type": "markdown",
   "metadata": {},
   "source": [
    "### II. Group Comparison: JAMB Scores by Preparation Strategy\n",
    "Analyze how different preparation strategies (e.g., reviewing notes daily, attending extra classes) affect jamb_score.."
   ]
  },
  {
   "cell_type": "code",
   "execution_count": 58,
   "metadata": {},
   "outputs": [
    {
     "data": {
      "image/png": "[encoded data removed]",
      "text/plain": [
       "<Figure size 432x288 with 1 Axes>"
      ]
     },
     "metadata": {
      "needs_background": "light"
     },
     "output_type": "display_data"
    }
   ],
   "source": [
    "# Group by prep_strategy and calculate the mean jamb_score\n",
    "mean_scores_by_strategy = df.groupby('prep_strategy')['jamb_score'].mean()\n",
    "\n",
    "# Plot the average jamb_score for each preparation strategy\n",
    "mean_scores_by_strategy.plot(kind='bar', color='coral')\n",
    "plt.title('Average JAMB Scores by Preparation Strategy')\n",
    "plt.xlabel('Preparation Strategy')\n",
    "plt.ylabel('Average JAMB Score')\n",
    "plt.xticks(rotation=90)\n",
    "plt.show()\n"
   ]
  },
  {
   "cell_type": "markdown",
   "metadata": {},
   "source": [
    "This plot shows us that people who attend extra classes, focus on weak areas, review their notes daily, followed a routine and had many mock exams tend to have higher jamb scores"
   ]
  },
  {
   "cell_type": "markdown",
   "metadata": {},
   "source": [
    "### III. Group Comparison: JAMB Scores by Challenges Faced"
   ]
  },
  {
   "cell_type": "code",
   "execution_count": 60,
   "metadata": {},
   "outputs": [
    {
     "data": {
      "image/png": "[encoded data removed]",
      "text/plain": [
       "<Figure size 432x288 with 1 Axes>"
      ]
     },
     "metadata": {
      "needs_background": "light"
     },
     "output_type": "display_data"
    }
   ],
   "source": [
    "# Group by challenges and calculate the mean jamb_score\n",
    "mean_scores_by_challenges = df.groupby('challenges_faced')['jamb_score'].mean()\n",
    "\n",
    "# Plot the average jamb_score for each type of challenge faced\n",
    "mean_scores_by_challenges.plot(kind='bar', color='purple')\n",
    "plt.title('Average JAMB Scores by Challenges Faced')\n",
    "plt.xlabel('Challenges Faced')\n",
    "plt.ylabel('Average JAMB Score')\n",
    "plt.xticks(rotation=90)\n",
    "plt.show()\n"
   ]
  },
  {
   "cell_type": "markdown",
   "metadata": {},
   "source": [
    "### IV.  Group Comparison: JAMB Scores by Household Income Bracket\n",
    "This comparison shows how jamb_score varies across different income brackets."
   ]
  },
  {
   "cell_type": "code",
   "execution_count": 61,
   "metadata": {},
   "outputs": [
    {
     "data": {
      "image/png": "[encoded data removed]",
      "text/plain": [
       "<Figure size 432x288 with 1 Axes>"
      ]
     },
     "metadata": {
      "needs_background": "light"
     },
     "output_type": "display_data"
    }
   ],
   "source": [
    "# Group by income_bracket and calculate the mean jamb_score\n",
    "mean_scores_by_income = df.groupby('income_bracket')['jamb_score'].mean()\n",
    "\n",
    "# Plot the average jamb_score for each income bracket\n",
    "mean_scores_by_income.plot(kind='bar', color='orange')\n",
    "plt.title('Average JAMB Scores by Household Income Bracket')\n",
    "plt.xlabel('Income Bracket (000 Naira)')\n",
    "plt.ylabel('Average JAMB Score')\n",
    "plt.xticks(rotation=0)\n",
    "plt.show()\n"
   ]
  },
  {
   "cell_type": "markdown",
   "metadata": {},
   "source": [
    "It's noteworthy that students from higher income brackets tend to have higher jamb scores"
   ]
  },
  {
   "cell_type": "markdown",
   "metadata": {},
   "source": [
    "### V. Group Comparison: JAMB Scores by School Support\n",
    "Evaluate how different forms of school support (e.g., mock exams, counseling) affect the jamb_score."
   ]
  },
  {
   "cell_type": "code",
   "execution_count": 62,
   "metadata": {},
   "outputs": [
    {
     "data": {
      "image/png": "[encoded data removed]",
      "text/plain": [
       "<Figure size 432x288 with 1 Axes>"
      ]
     },
     "metadata": {
      "needs_background": "light"
     },
     "output_type": "display_data"
    }
   ],
   "source": [
    "# Group by school_support and calculate the mean jamb_score\n",
    "mean_scores_by_support = df.groupby('school_support')['jamb_score'].mean()\n",
    "\n",
    "# Plot the average jamb_score for each type of school support\n",
    "mean_scores_by_support.plot(kind='bar', color='teal')\n",
    "plt.title('Average JAMB Scores by School Support')\n",
    "plt.xlabel('School Support')\n",
    "plt.ylabel('Average JAMB Score')\n",
    "plt.xticks(rotation=90)\n",
    "plt.show()\n"
   ]
  },
  {
   "cell_type": "markdown",
   "metadata": {},
   "source": [
    "Students who had strict supervision/monitoring tend to have higher jamb scores"
   ]
  },
  {
   "cell_type": "markdown",
   "metadata": {},
   "source": [
    "### VI Group Comparison: JAMB Scores by Year\n",
    "This example shows how jamb_score distribution changes over different exam years."
   ]
  },
  {
   "cell_type": "code",
   "execution_count": 63,
   "metadata": {},
   "outputs": [
    {
     "data": {
      "image/png": "[encoded data removed]",
      "text/plain": [
       "<Figure size 432x288 with 1 Axes>"
      ]
     },
     "metadata": {
      "needs_background": "light"
     },
     "output_type": "display_data"
    }
   ],
   "source": [
    "# Group by year and calculate the mean jamb_score\n",
    "mean_scores_by_year = df.groupby('year')['jamb_score'].mean()\n",
    "\n",
    "# Plot the average jamb_score for each year\n",
    "mean_scores_by_year.plot(kind='line', marker='o', color='dodgerblue')\n",
    "plt.title('Average JAMB Scores by Year')\n",
    "plt.xlabel('Year')\n",
    "plt.ylabel('Average JAMB Score')\n",
    "plt.xticks(rotation=0)\n",
    "plt.grid(True)\n",
    "plt.show()\n"
   ]
  },
  {
   "cell_type": "markdown",
   "metadata": {},
   "source": [
    "This plot shows the average Jamb score of students in each year"
   ]
  },
  {
   "cell_type": "markdown",
   "metadata": {},
   "source": [
    "### VII. Group Comparison: Failed Subjects by Student Category\n",
    "Analyze which subjects students tend to fail more based on their category (Commercial, Art, Science)."
   ]
  },
  {
   "cell_type": "code",
   "execution_count": 66,
   "metadata": {},
   "outputs": [
    {
     "data": {
      "image/png": "[encoded data removed]",
      "text/plain": [
       "<Figure size 432x288 with 1 Axes>"
      ]
     },
     "metadata": {
      "needs_background": "light"
     },
     "output_type": "display_data"
    }
   ],
   "source": [
    "# Group by student_category and count the occurrences of failed subjects\n",
    "failed_subjects_by_category = df.groupby('student_category')['subject_failed'].value_counts().unstack()\n",
    "\n",
    "# Plot the number of failed subjects for each student category\n",
    "failed_subjects_by_category.plot(kind='bar', stacked=True)\n",
    "plt.title('Failed Subjects by Student Category')\n",
    "plt.xlabel('Student Category')\n",
    "plt.ylabel('Count of Failed Subjects')\n",
    "plt.xticks(rotation=0)\n",
    "plt.legend(title='Failed Subjects', bbox_to_anchor=(1.05, 1))\n",
    "plt.show()\n"
   ]
  },
  {
   "cell_type": "markdown",
   "metadata": {},
   "source": [
    "This plot shows us the distribution of subjects failed by students in each category"
   ]
  },
  {
   "cell_type": "markdown",
   "metadata": {},
   "source": [
    "### VIII. Group Comparison: Challenges Faced by Preparation Level\n",
    "Compare how the challenges faced by students vary depending on how well-prepared they were for the exam."
   ]
  },
  {
   "cell_type": "code",
   "execution_count": 72,
   "metadata": {},
   "outputs": [
    {
     "data": {
      "image/png": "[encoded data removed]",
      "text/plain": [
       "<Figure size 720x432 with 1 Axes>"
      ]
     },
     "metadata": {
      "needs_background": "light"
     },
     "output_type": "display_data"
    }
   ],
   "source": [
    "# Group by preparation level and count challenges\n",
    "challenges_by_prep_level = df.groupby('prep_level')['challenges_faced'].value_counts().unstack()\n",
    "\n",
    "# Plot challenges faced based on preparation level\n",
    "challenges_by_prep_level.plot(kind='bar', stacked=True, figsize=(10, 6))\n",
    "plt.title('How Challenges Faced affected Preparation Level')\n",
    "plt.xlabel('Preparation Level')\n",
    "plt.ylabel('Count of Challenges Faced')\n",
    "plt.xticks(rotation=0)\n",
    "plt.legend(title='Challenges', bbox_to_anchor=(1.05, 1))\n",
    "plt.show()\n"
   ]
  },
  {
   "cell_type": "markdown",
   "metadata": {},
   "source": [
    "This plot shows us how some challenges faced affected preparation level and it is important to note that time management, anxiety and fear are consistently recurring themes that affect various students preparation levels"
   ]
  },
  {
   "cell_type": "markdown",
   "metadata": {},
   "source": [
    "### Summary of Group Comparison Techniques\n",
    "By conducting these group comparisons, I've identified some key trends, correlations, the impact of socioeconomic factors like household income on exam outcomes and insights such as:\n",
    "\n",
    "* Science students perform best on average.\n",
    "* Students who attended extra classes, reviewed their notes daily and followed a routine had better performances.\n",
    "* Students from households from higher income brackets performed better than students from households in lower income brackets.\n",
    "* Students whose schools enforced strict supervision/monitoring performed better on a average\n"
   ]
  },
  {
   "cell_type": "markdown",
   "metadata": {},
   "source": [
    "## 3. HYPOTHESIS TESTING\n",
    "I want to examine the relationship between jamb scores of first time writers and second time writers\n",
    "\n",
    "* **Null Hypothesis (H₀)**: The average JAMB scores of first-time writers (group1) and non-first-time writers (group2) are equal.\n",
    "* **Alternative Hypothesis** (H₁): The average JAMB scores of first-time writers and non-first-time writers are not equal."
   ]
  },
  {
   "cell_type": "code",
   "execution_count": 76,
   "metadata": {},
   "outputs": [
    {
     "name": "stdout",
     "output_type": "stream",
     "text": [
      "T-statistic: -0.10423122255534767, P-value: 0.9170067992813473\n"
     ]
    }
   ],
   "source": [
    "# Hypothesis Testing \n",
    "from scipy import stats\n",
    "group1 = df[df['first_time'] == 'Yes']['jamb_score']\n",
    "group2 = df[df['first_time'] == 'No']['jamb_score']\n",
    "t_stat, p_value = stats.ttest_ind(group1, group2)\n",
    "print(f'T-statistic: {t_stat}, P-value: {p_value}')"
   ]
  },
  {
   "cell_type": "markdown",
   "metadata": {},
   "source": [
    "#### Interpretation of Results\n",
    "\n",
    "The T-statistic = -0.1042, which is very close to zero. This suggests that the mean difference between the JAMB scores of first-time and non-first-time writers is very small, and the two groups have very similar performance.\n",
    "\n",
    "P-value = 0.9170 is much higher than the common threshold of 0.05. This means there is a 91.7% chance that any difference observed in the JAMB scores between first-time and non-first-time writers is due to random chance, rather than a real difference between the group\n",
    "\n",
    "**Summary**\n",
    "\n",
    "\n",
    "based on the hypothesis test:\n",
    "\n",
    "* The difference in average JAMB scores between first-time exam takers and repeat exam takers is not statistically significant.\n",
    "* There is no evidence to suggest that being a first-time writer or not has a meaningful impact on JAMB performance in your dataset."
   ]
  },
  {
   "cell_type": "markdown",
   "metadata": {},
   "source": [
    "## 3. DATA PREPROCESSING AND MODEL BUILDING\n",
    "\n",
    "In this stage, I will be preprocessing the data to get it ready for model building\n",
    "\n",
    "The year data represents a categorical variable (e.g., \"2020,\" \"2021,\" etc.), treating it as a numerical feature or encoding it is sufficient and I don't necessarily have to account for cyclicity because there’s no reason to believe the years have a periodic influence (e.g., seasonal trends repeating over multiple years)."
   ]
  },
  {
   "cell_type": "code",
   "execution_count": 77,
   "metadata": {},
   "outputs": [
    {
     "data": {
      "text/plain": [
       "['exam',\n",
       " 'first_time',\n",
       " 'prev_exam_result',\n",
       " 'challenges_faced',\n",
       " 'prep_level',\n",
       " 'school_support',\n",
       " 'teacher_impact',\n",
       " 'fail_reason',\n",
       " 'prep_strategy',\n",
       " 'subject_failed',\n",
       " 'student_category',\n",
       " 'income_bracket']"
      ]
     },
     "execution_count": 77,
     "metadata": {},
     "output_type": "execute_result"
    }
   ],
   "source": [
    "categorical_columns"
   ]
  },
  {
   "cell_type": "code",
   "execution_count": 79,
   "metadata": {},
   "outputs": [
    {
     "name": "stdout",
     "output_type": "stream",
     "text": [
      "<class 'pandas.core.series.Series'>\n",
      "RangeIndex: 1000 entries, 0 to 999\n",
      "Series name: year\n",
      "Non-Null Count  Dtype   \n",
      "--------------  -----   \n",
      "1000 non-null   category\n",
      "dtypes: category(1)\n",
      "memory usage: 1.3 KB\n"
     ]
    }
   ],
   "source": [
    "# Convert the 'year' column to a categorical data type\n",
    "df['year'] = df['year'].astype('category')\n",
    "# Confirm the change\n",
    "df['year'].info()"
   ]
  },
  {
   "cell_type": "code",
   "execution_count": 82,
   "metadata": {},
   "outputs": [
    {
     "data": {
      "text/html": [
       "<div>\n",
       "<style scoped>\n",
       "    .dataframe tbody tr th:only-of-type {\n",
       "        vertical-align: middle;\n",
       "    }\n",
       "\n",
       "    .dataframe tbody tr th {\n",
       "        vertical-align: top;\n",
       "    }\n",
       "\n",
       "    .dataframe thead th {\n",
       "        text-align: right;\n",
       "    }\n",
       "</style>\n",
       "<table border=\"1\" class=\"dataframe\">\n",
       "  <thead>\n",
       "    <tr style=\"text-align: right;\">\n",
       "      <th></th>\n",
       "      <th>exam_JAMB and WAEC</th>\n",
       "      <th>exam_WAEC</th>\n",
       "      <th>first_time_Yes</th>\n",
       "      <th>prev_exam_result_Bad</th>\n",
       "      <th>prev_exam_result_Good</th>\n",
       "      <th>prev_exam_result_nan</th>\n",
       "      <th>challenges_faced_Fear</th>\n",
       "      <th>challenges_faced_Lack of Finance</th>\n",
       "      <th>challenges_faced_Lack of time due to chores/work</th>\n",
       "      <th>challenges_faced_Long waiting time</th>\n",
       "      <th>...</th>\n",
       "      <th>student_category_Commercial</th>\n",
       "      <th>student_category_Science</th>\n",
       "      <th>year_2021</th>\n",
       "      <th>year_2022</th>\n",
       "      <th>year_2023</th>\n",
       "      <th>year_2024</th>\n",
       "      <th>income_bracket_1,000 Upwards</th>\n",
       "      <th>income_bracket_100-300</th>\n",
       "      <th>income_bracket_300-500</th>\n",
       "      <th>income_bracket_500-1,000</th>\n",
       "    </tr>\n",
       "  </thead>\n",
       "  <tbody>\n",
       "    <tr>\n",
       "      <th>0</th>\n",
       "      <td>0.0</td>\n",
       "      <td>0.0</td>\n",
       "      <td>1.0</td>\n",
       "      <td>0.0</td>\n",
       "      <td>0.0</td>\n",
       "      <td>0.0</td>\n",
       "      <td>1.0</td>\n",
       "      <td>0.0</td>\n",
       "      <td>0.0</td>\n",
       "      <td>0.0</td>\n",
       "      <td>...</td>\n",
       "      <td>0.0</td>\n",
       "      <td>1.0</td>\n",
       "      <td>1.0</td>\n",
       "      <td>0.0</td>\n",
       "      <td>0.0</td>\n",
       "      <td>0.0</td>\n",
       "      <td>0.0</td>\n",
       "      <td>0.0</td>\n",
       "      <td>0.0</td>\n",
       "      <td>0.0</td>\n",
       "    </tr>\n",
       "    <tr>\n",
       "      <th>1</th>\n",
       "      <td>0.0</td>\n",
       "      <td>0.0</td>\n",
       "      <td>1.0</td>\n",
       "      <td>1.0</td>\n",
       "      <td>0.0</td>\n",
       "      <td>0.0</td>\n",
       "      <td>0.0</td>\n",
       "      <td>0.0</td>\n",
       "      <td>0.0</td>\n",
       "      <td>0.0</td>\n",
       "      <td>...</td>\n",
       "      <td>1.0</td>\n",
       "      <td>0.0</td>\n",
       "      <td>0.0</td>\n",
       "      <td>0.0</td>\n",
       "      <td>0.0</td>\n",
       "      <td>1.0</td>\n",
       "      <td>0.0</td>\n",
       "      <td>0.0</td>\n",
       "      <td>0.0</td>\n",
       "      <td>0.0</td>\n",
       "    </tr>\n",
       "    <tr>\n",
       "      <th>2</th>\n",
       "      <td>0.0</td>\n",
       "      <td>1.0</td>\n",
       "      <td>1.0</td>\n",
       "      <td>0.0</td>\n",
       "      <td>0.0</td>\n",
       "      <td>1.0</td>\n",
       "      <td>0.0</td>\n",
       "      <td>0.0</td>\n",
       "      <td>1.0</td>\n",
       "      <td>0.0</td>\n",
       "      <td>...</td>\n",
       "      <td>1.0</td>\n",
       "      <td>0.0</td>\n",
       "      <td>1.0</td>\n",
       "      <td>0.0</td>\n",
       "      <td>0.0</td>\n",
       "      <td>0.0</td>\n",
       "      <td>0.0</td>\n",
       "      <td>0.0</td>\n",
       "      <td>0.0</td>\n",
       "      <td>0.0</td>\n",
       "    </tr>\n",
       "    <tr>\n",
       "      <th>3</th>\n",
       "      <td>0.0</td>\n",
       "      <td>0.0</td>\n",
       "      <td>1.0</td>\n",
       "      <td>0.0</td>\n",
       "      <td>1.0</td>\n",
       "      <td>0.0</td>\n",
       "      <td>0.0</td>\n",
       "      <td>0.0</td>\n",
       "      <td>0.0</td>\n",
       "      <td>0.0</td>\n",
       "      <td>...</td>\n",
       "      <td>0.0</td>\n",
       "      <td>1.0</td>\n",
       "      <td>0.0</td>\n",
       "      <td>0.0</td>\n",
       "      <td>1.0</td>\n",
       "      <td>0.0</td>\n",
       "      <td>0.0</td>\n",
       "      <td>0.0</td>\n",
       "      <td>0.0</td>\n",
       "      <td>0.0</td>\n",
       "    </tr>\n",
       "    <tr>\n",
       "      <th>4</th>\n",
       "      <td>1.0</td>\n",
       "      <td>0.0</td>\n",
       "      <td>1.0</td>\n",
       "      <td>1.0</td>\n",
       "      <td>0.0</td>\n",
       "      <td>0.0</td>\n",
       "      <td>0.0</td>\n",
       "      <td>1.0</td>\n",
       "      <td>0.0</td>\n",
       "      <td>0.0</td>\n",
       "      <td>...</td>\n",
       "      <td>1.0</td>\n",
       "      <td>0.0</td>\n",
       "      <td>0.0</td>\n",
       "      <td>1.0</td>\n",
       "      <td>0.0</td>\n",
       "      <td>0.0</td>\n",
       "      <td>0.0</td>\n",
       "      <td>0.0</td>\n",
       "      <td>0.0</td>\n",
       "      <td>0.0</td>\n",
       "    </tr>\n",
       "  </tbody>\n",
       "</table>\n",
       "<p>5 rows × 63 columns</p>\n",
       "</div>"
      ],
      "text/plain": [
       "   exam_JAMB and WAEC  exam_WAEC  first_time_Yes  prev_exam_result_Bad  \\\n",
       "0                 0.0        0.0             1.0                   0.0   \n",
       "1                 0.0        0.0             1.0                   1.0   \n",
       "2                 0.0        1.0             1.0                   0.0   \n",
       "3                 0.0        0.0             1.0                   0.0   \n",
       "4                 1.0        0.0             1.0                   1.0   \n",
       "\n",
       "   prev_exam_result_Good  prev_exam_result_nan  challenges_faced_Fear  \\\n",
       "0                    0.0                   0.0                    1.0   \n",
       "1                    0.0                   0.0                    0.0   \n",
       "2                    0.0                   1.0                    0.0   \n",
       "3                    1.0                   0.0                    0.0   \n",
       "4                    0.0                   0.0                    0.0   \n",
       "\n",
       "   challenges_faced_Lack of Finance  \\\n",
       "0                               0.0   \n",
       "1                               0.0   \n",
       "2                               0.0   \n",
       "3                               0.0   \n",
       "4                               1.0   \n",
       "\n",
       "   challenges_faced_Lack of time due to chores/work  \\\n",
       "0                                               0.0   \n",
       "1                                               0.0   \n",
       "2                                               1.0   \n",
       "3                                               0.0   \n",
       "4                                               0.0   \n",
       "\n",
       "   challenges_faced_Long waiting time  ...  student_category_Commercial  \\\n",
       "0                                 0.0  ...                          0.0   \n",
       "1                                 0.0  ...                          1.0   \n",
       "2                                 0.0  ...                          1.0   \n",
       "3                                 0.0  ...                          0.0   \n",
       "4                                 0.0  ...                          1.0   \n",
       "\n",
       "   student_category_Science  year_2021  year_2022  year_2023  year_2024  \\\n",
       "0                       1.0        1.0        0.0        0.0        0.0   \n",
       "1                       0.0        0.0        0.0        0.0        1.0   \n",
       "2                       0.0        1.0        0.0        0.0        0.0   \n",
       "3                       1.0        0.0        0.0        1.0        0.0   \n",
       "4                       0.0        0.0        1.0        0.0        0.0   \n",
       "\n",
       "   income_bracket_1,000 Upwards   income_bracket_100-300  \\\n",
       "0                            0.0                     0.0   \n",
       "1                            0.0                     0.0   \n",
       "2                            0.0                     0.0   \n",
       "3                            0.0                     0.0   \n",
       "4                            0.0                     0.0   \n",
       "\n",
       "   income_bracket_300-500  income_bracket_500-1,000  \n",
       "0                     0.0                       0.0  \n",
       "1                     0.0                       0.0  \n",
       "2                     0.0                       0.0  \n",
       "3                     0.0                       0.0  \n",
       "4                     0.0                       0.0  \n",
       "\n",
       "[5 rows x 63 columns]"
      ]
     },
     "execution_count": 82,
     "metadata": {},
     "output_type": "execute_result"
    }
   ],
   "source": [
    "# import the necessary libraries\n",
    "from sklearn.model_selection import train_test_split\n",
    "from sklearn.preprocessing import OneHotEncoder\n",
    "from sklearn.ensemble import RandomForestRegressor, GradientBoostingRegressor\n",
    "from sklearn.linear_model import LinearRegression\n",
    "from sklearn.svm import SVR\n",
    "from sklearn.neighbors import KNeighborsRegressor\n",
    "from sklearn.metrics import mean_absolute_error, r2_score\n",
    "from sklearn.model_selection import cross_val_score\n",
    "\n",
    "\n",
    "# Select the features\n",
    "features = ['exam', 'first_time', 'prev_exam_result', 'challenges_faced', 'prep_level', 'school_support', 'teacher_impact', \n",
    "            'fail_reason', 'prep_strategy', 'subject_failed', 'student_category', 'year', 'income_bracket']\n",
    "\n",
    "# Target variable (JAMB score)\n",
    "target = 'jamb_score'\n",
    "\n",
    "# One-hot encode categorical features\n",
    "categorical_cols = ['exam', 'first_time', 'prev_exam_result', 'challenges_faced', 'prep_level', 'school_support', 'teacher_impact', \n",
    "            'fail_reason', 'prep_strategy', 'subject_failed', 'student_category', 'year', 'income_bracket']\n",
    "encoder = OneHotEncoder(sparse=False, drop='first')\n",
    "encoded_features = pd.DataFrame(encoder.fit_transform(df[categorical_cols]))\n",
    "\n",
    "# Replace column names with appropriate feature names for encoded columns\n",
    "encoded_features.columns = encoder.get_feature_names_out(categorical_cols)\n",
    "encoded_features.head()"
   ]
  },
  {
   "cell_type": "markdown",
   "metadata": {},
   "source": [
    "#### MODEL BUILDING"
   ]
  },
  {
   "cell_type": "code",
   "execution_count": 92,
   "metadata": {},
   "outputs": [
    {
     "name": "stdout",
     "output_type": "stream",
     "text": [
      "                                           MAE        R2\n",
      "Linear Regression                    22.296667  0.423761\n",
      "Random Forest Regressor              22.266333  0.441728\n",
      "Gradient Boosting Regressor          21.982014  0.455760\n",
      "Support Vector Regressor (SVR)       29.259322 -0.001215\n",
      "K-Nearest Neighbors Regressor (KNN)  28.632000  0.006380\n",
      "XGBoost Regressor                    23.375382  0.371465\n"
     ]
    }
   ],
   "source": [
    "import xgboost as xgb\n",
    "\n",
    "\n",
    "# Combine encoded features with numerical columns (e.g., year)\n",
    "X = pd.concat([encoded_features, df[['year']]], axis=1)\n",
    "y = df[target]\n",
    "\n",
    "# Train-test split\n",
    "X_train, X_test, y_train, y_test = train_test_split(X, y, test_size=0.3, random_state=42)\n",
    "\n",
    "# Initialize different models\n",
    "models = {\n",
    "    'Linear Regression': LinearRegression(),\n",
    "    'Random Forest Regressor': RandomForestRegressor(random_state=42),\n",
    "    'Gradient Boosting Regressor': GradientBoostingRegressor(random_state=42),\n",
    "    'Support Vector Regressor (SVR)': SVR(),\n",
    "    'K-Nearest Neighbors Regressor (KNN)': KNeighborsRegressor(),\n",
    "    'XGBoost Regressor': xgb.XGBRegressor(random_state=42,  enable_categorical=True),\n",
    "}\n",
    "\n",
    "# Function to evaluate models\n",
    "def evaluate_model(model, X_train, X_test, y_train, y_test):\n",
    "    # Train the model\n",
    "    model.fit(X_train, y_train)\n",
    "    \n",
    "    # Make predictions\n",
    "    y_pred = model.predict(X_test)\n",
    "    \n",
    "    # Evaluate the model\n",
    "    mae = mean_absolute_error(y_test, y_pred)\n",
    "    r2 = r2_score(y_test, y_pred)\n",
    "    \n",
    "    return mae, r2\n",
    "\n",
    "# Compare the models\n",
    "results = {}\n",
    "for name, model in models.items():\n",
    "    mae, r2 = evaluate_model(model, X_train, X_test, y_train, y_test)\n",
    "    results[name] = {'MAE': mae, 'R2': r2}\n",
    "\n",
    "# Display the results\n",
    "results_df = pd.DataFrame(results).T\n",
    "print(results_df)\n"
   ]
  },
  {
   "cell_type": "code",
   "execution_count": 83,
   "metadata": {},
   "outputs": [
    {
     "name": "stdout",
     "output_type": "stream",
     "text": [
      "                                           MAE        R2\n",
      "Linear Regression                    22.296667  0.423761\n",
      "Random Forest Regressor              22.266333  0.441728\n",
      "Gradient Boosting Regressor          21.982014  0.455760\n",
      "Support Vector Regressor (SVR)       29.259322 -0.001215\n",
      "K-Nearest Neighbors Regressor (KNN)  28.632000  0.006380\n"
     ]
    }
   ],
   "source": [
    "\n",
    "# Combine encoded features with numerical columns (e.g., year)\n",
    "X = pd.concat([encoded_features, df[['year']]], axis=1)\n",
    "y = df[target]\n",
    "\n",
    "# Train-test split\n",
    "X_train, X_test, y_train, y_test = train_test_split(X, y, test_size=0.3, random_state=42)\n",
    "\n",
    "# Initialize different models\n",
    "models = {\n",
    "    'Linear Regression': LinearRegression(),\n",
    "    'Random Forest Regressor': RandomForestRegressor(random_state=42),\n",
    "    'Gradient Boosting Regressor': GradientBoostingRegressor(random_state=42),\n",
    "    'Support Vector Regressor (SVR)': SVR(),\n",
    "    'K-Nearest Neighbors Regressor (KNN)': KNeighborsRegressor()\n",
    "}\n",
    "\n",
    "# Function to evaluate models\n",
    "def evaluate_model(model, X_train, X_test, y_train, y_test):\n",
    "    # Train the model\n",
    "    model.fit(X_train, y_train)\n",
    "    \n",
    "    # Make predictions\n",
    "    y_pred = model.predict(X_test)\n",
    "    \n",
    "    # Evaluate the model\n",
    "    mae = mean_absolute_error(y_test, y_pred)\n",
    "    r2 = r2_score(y_test, y_pred)\n",
    "    \n",
    "    return mae, r2\n",
    "\n",
    "# Compare the models\n",
    "results = {}\n",
    "for name, model in models.items():\n",
    "    mae, r2 = evaluate_model(model, X_train, X_test, y_train, y_test)\n",
    "    results[name] = {'MAE': mae, 'R2': r2}\n",
    "\n",
    "# Display the results\n",
    "results_df = pd.DataFrame(results).T\n",
    "print(results_df)\n"
   ]
  },
  {
   "cell_type": "markdown",
   "metadata": {},
   "source": [
    "### HYPERPARAMETER TUNING\n",
    "Gradient boosting regressor was the best performing model, so I'd optimize it using GridSearchCV\n",
    "\n"
   ]
  },
  {
   "cell_type": "code",
   "execution_count": 93,
   "metadata": {},
   "outputs": [
    {
     "name": "stdout",
     "output_type": "stream",
     "text": [
      "Fitting 5 folds for each of 486 candidates, totalling 2430 fits\n",
      "Best parameters found:  {'learning_rate': 0.01, 'max_depth': 5, 'min_samples_leaf': 1, 'min_samples_split': 5, 'n_estimators': 200, 'subsample': 0.8}\n",
      "Best cross-validated score:  701.0280200618612\n",
      "Test score of the best model:  0.4937806320606626\n"
     ]
    }
   ],
   "source": [
    "from sklearn.model_selection import GridSearchCV\n",
    "\n",
    "# Define the model\n",
    "gbr = GradientBoostingRegressor()\n",
    "\n",
    "# Define the parameter grid\n",
    "param_grid = {\n",
    "    'n_estimators': [100, 200, 300],       # Number of trees\n",
    "    'learning_rate': [0.01, 0.05, 0.1],    # Step size shrinkage\n",
    "    'max_depth': [3, 5, 7],                 # Maximum depth of the tree\n",
    "    'min_samples_split': [2, 5, 10],        # Minimum samples required to split an internal node\n",
    "    'min_samples_leaf': [1, 2, 4],          # Minimum samples required to be at a leaf node\n",
    "    'subsample': [0.8, 1.0]                 # Fraction of samples to be used for fitting the individual base learners\n",
    "}\n",
    "\n",
    "# Set up the GridSearchCV\n",
    "grid_search = GridSearchCV(estimator=gbr, param_grid=param_grid,\n",
    "                           cv=5, n_jobs=-1, verbose=1, scoring='neg_mean_squared_error')\n",
    "\n",
    "# Fit the model\n",
    "grid_search.fit(X_train, y_train)\n",
    "\n",
    "# Print the best parameters\n",
    "print(\"Best parameters found: \", grid_search.best_params_)\n",
    "print(\"Best cross-validated score: \", -grid_search.best_score_)\n",
    "\n",
    "# Get the best estimator\n",
    "best_gbr = grid_search.best_estimator_\n",
    "\n",
    "# Evaluate on the test set\n",
    "test_score = best_gbr.score(X_test, y_test)\n",
    "print(\"Test score of the best model: \", test_score)\n"
   ]
  },
  {
   "cell_type": "code",
   "execution_count": 95,
   "metadata": {},
   "outputs": [
    {
     "data": {
      "text/plain": [
       "array([1.41985050e-03, 5.01951822e-03, 2.18008041e-03, 2.23956790e-03,\n",
       "       3.58650371e-03, 9.05565105e-03, 4.19239004e-03, 5.40144060e-03,\n",
       "       1.21171043e-03, 2.12054811e-03, 6.11958305e-04, 5.72441331e-05,\n",
       "       2.52357786e-03, 1.83091845e-03, 3.27647148e-03, 4.35226209e-03,\n",
       "       8.01697296e-03, 7.54694605e-03, 8.83090120e-03, 7.67166966e-03,\n",
       "       4.64800649e-03, 1.59526206e-03, 2.37324042e-03, 2.82690345e-03,\n",
       "       3.68185852e-03, 1.86552699e-03, 4.50892008e-03, 6.95027202e-03,\n",
       "       1.72570521e-03, 1.13633945e-03, 1.33944223e-03, 4.70461749e-03,\n",
       "       4.70634986e-03, 2.98388099e-03, 2.89981630e-03, 2.44198353e-03,\n",
       "       3.67772603e-03, 6.13013056e-03, 4.58579901e-03, 3.46128049e-03,\n",
       "       2.92023792e-03, 1.45437342e-03, 2.48857330e-03, 2.24086691e-03,\n",
       "       2.08402674e-03, 4.34873789e-03, 2.57433449e-03, 1.27358487e-03,\n",
       "       4.74311744e-03, 2.34110685e-03, 1.68271195e-03, 1.62393496e-03,\n",
       "       2.60744927e-03, 7.93735790e-04, 1.18344585e-03, 3.06069224e-03,\n",
       "       1.54677619e-03, 1.97819705e-03, 1.76734498e-03, 3.32540495e-01,\n",
       "       6.41015453e-02, 1.57120095e-01, 2.46259220e-01, 7.87615271e-03])"
      ]
     },
     "execution_count": 95,
     "metadata": {},
     "output_type": "execute_result"
    }
   ],
   "source": [
    "# Get feature importances\n",
    "feature_importances = best_gbr.feature_importances_\n",
    "feature_importances\n"
   ]
  },
  {
   "cell_type": "code",
   "execution_count": 101,
   "metadata": {},
   "outputs": [
    {
     "data": {
      "image/png": "[encoded data removed]",
      "text/plain": [
       "<Figure size 720x432 with 1 Axes>"
      ]
     },
     "metadata": {
      "needs_background": "light"
     },
     "output_type": "display_data"
    }
   ],
   "source": [
    "# Get feature importances\n",
    "importances = best_gbr.feature_importances_\n",
    "\n",
    "# Get feature names\n",
    "feature_names = X.columns\n",
    "\n",
    "# Create a DataFrame for feature importances\n",
    "feat_importances = pd.DataFrame({'Feature': feature_names, 'Importance': importances})\n",
    "\n",
    "# Sort by importance and select the top 10\n",
    "top_10_feat = feat_importances.sort_values(by='Importance', ascending=False).head(15)\n",
    "\n",
    "# Plot the top 10 features\n",
    "plt.figure(figsize=(10, 6))\n",
    "sns.barplot(x='Importance', y='Feature', data=top_10_feat, palette='viridis')\n",
    "plt.title('Top 10 Feature Importances - Gradient Boosting Regressor')\n",
    "plt.xlabel('Importance')\n",
    "plt.ylabel('Feature')\n",
    "plt.show()"
   ]
  },
  {
   "cell_type": "markdown",
   "metadata": {},
   "source": [
    "This plot shows that income bracket, preparation level, teacher impact, preparation strategy and chllenges faced are the most important features that contribute to the score of the model"
   ]
  },
  {
   "cell_type": "markdown",
   "metadata": {},
   "source": [
    "## CONCLUSION"
   ]
  },
  {
   "cell_type": "markdown",
   "metadata": {},
   "source": [
    "This Notebook contains a machine learning workflow aimed at predicting student performance rates in exams based on historical data. The notebook is divided into several sections:\n",
    "\n",
    "1. Problem Definition: The notebook addresses the concern of sub-par quality of education in Africa and aims to predict student performance in exams.\n",
    "\n",
    "2. Data Overview: The notebook imports necessary libraries such as numpy, pandas, and matplotlib. It also connects to a PostgreSQL database and retrieves data from the \"School_data\" table. The data is then explored and analyzed using various techniques such as examining the shape of the DataFrame, displaying columns, checking for missing values, and visualizing categorical variables.\n",
    "\n",
    "3. Exploratory Data Analysis (EDA): The notebook performs group comparisons to identify key trends and correlations. It compares JAMB scores across different student categories, preparation strategies, challenges faced, household income brackets, school support, and exam years. Visualizations are used to analyze the data and draw insights.\n",
    "\n",
    "4. Hypothesis Testing: The notebook conducts a hypothesis test to examine the relationship between JAMB scores of first-time writers and non-first-time writers. The null hypothesis is that the average JAMB scores of the two groups are equal. The alternative hypothesis is that the average JAMB scores are not equal. The results of the hypothesis test suggest that there is no statistically significant difference in the JAMB scores between the two groups.\n",
    "\n",
    "5. Data Preprocessing and Model Building: The notebook preprocesses the data by converting the 'year' column to a categorical data type. It then selects features and target variables, performs one-hot encoding on categorical features, and splits the data into training and testing sets. Several regression models, including Linear Regression, Random Forest Regressor, Gradient Boosting Regressor, Support Vector Regressor (SVR), and K-Nearest Neighbors Regressor (KNN), are trained and evaluated. The Gradient Boosting Regressor performs the best.\n",
    "\n",
    "6. Hyperparameter Tuning: The notebook uses GridSearchCV to optimize the parameters of the Gradient Boosting Regressor. The best parameters are found, and the model is evaluated on the test set. The best_gbr model after tuning had a r2 score of approximately 50%\n",
    "\n",
    "7. Challenges and Probable Solutions: To improve the modelling, we’d need to get more data, more data wasn’t gotten due to time constraints.\n",
    "If more data is gotten I can employ the use of deep learning algorithms to achieve better predictive performance\n",
    "\n",
    "8. Summary: The notebook provides a summary of the models' performance and key insights from the analysis. It also includes information about the variables and data present in the notebook.\n",
    "\n",
    "Overall, the notebook demonstrates a comprehensive machine learning workflow for predicting student performance in exams based on historical data.\n",
    "\n"
   ]
  },
  {
   "cell_type": "code",
   "execution_count": null,
   "metadata": {},
   "outputs": [],
   "source": []
  }
 ],
 "metadata": {
  "kernelspec": {
   "display_name": "base",
   "language": "python",
   "name": "python3"
  },
  "language_info": {
   "codemirror_mode": {
    "name": "ipython",
    "version": 3
   },
   "file_extension": ".py",
   "mimetype": "text/x-python",
   "name": "python",
   "nbconvert_exporter": "python",
   "pygments_lexer": "ipython3",
   "version": "3.9.12"
  }
 },
 "nbformat": 4,
 "nbformat_minor": 2
}
